{
 "cells": [
  {
   "cell_type": "markdown",
   "metadata": {
    "id": "nCi_99yMYIb1"
   },
   "source": [
    "In this notebook you'll create your own bootstrap function following the bootstrap algorithm (check the lecture notes!)"
   ]
  },
  {
   "cell_type": "code",
   "execution_count": 1,
   "metadata": {
    "id": "LY5zujI2YC37",
    "pycharm": {
     "name": "#%%# Imports\n"
    }
   },
   "outputs": [],
   "source": [
    "import matplotlib\n",
    "import pandas as pd\n",
    "import seaborn as sns\n",
    "import numpy as np\n",
    "\n"
   ]
  },
  {
   "cell_type": "code",
   "execution_count": 2,
   "metadata": {
    "colab": {
     "base_uri": "https://localhost:8080/"
    },
    "id": "Eqkwj4SMY38t",
    "outputId": "fb2a4f94-96c2-456f-e5bb-15b379ee5bed"
   },
   "outputs": [
    {
     "data": {
      "text/plain": [
       "array([ 2.,  8., 20., 13.,  5.,  9., 10.,  8., 22., 10.,  2.,  4.,  7.,\n",
       "        9.])"
      ]
     },
     "execution_count": 2,
     "metadata": {},
     "output_type": "execute_result"
    }
   ],
   "source": [
    "# Load the data\n",
    "df = pd.read_csv('https://raw.githubusercontent.com/albanda/CE888/master/lab2%20-%20bootstrap/customers.csv')\n",
    "data = df.values.T[1]\n",
    "data"
   ]
  },
  {
   "cell_type": "code",
   "execution_count": 3,
   "metadata": {
    "id": "Gxvc_bScYC4H",
    "pycharm": {
     "name": "#%%\n"
    }
   },
   "outputs": [],
   "source": [
    "# Checking the notes from the lecture, create here your own bootstrap function:\n",
    "# 1. Sample from the input array x to create an array of samples of shape (n_bootstraps, sample_size)\n",
    "# Hint: Check the function random.choice() on Numpy\n",
    "# 2. Calculate and save the mean of the array (this is \"data_mean\" that is returned by the function)\n",
    "# 3. Calculate the mean from each bootstrap (i.e., row) and store it.\n",
    "# (This should be an array of n_bootstraps values)\n",
    "# 4. Calculate the lower and upper bounds for a 95% CI (hint: check the percentile function on Numpy)\n",
    "# 5. Return data_mean, and the lower and upper bounds of your interval\n",
    "\n",
    "def bootstrap_mean(x, sample_size, n_bootstraps):\n",
    "\t# <---INSERT YOUR CODE HERE--->\n",
    "  samp = np.random.choice(x, (n_bootstraps, sample_size))\n",
    "  data_mean = np.mean(samp)\n",
    "  row_mean = np.zeros(n_bootstraps)\n",
    "  for i in range(n_bootstraps):\n",
    "    row_mean[i] = np.mean(samp[i, :])\n",
    "  lower = np.percentile(row_mean, 2.5)\n",
    "  upper = np.percentile(row_mean, 97.5)\n",
    "  return data_mean, lower, upper"
   ]
  },
  {
   "cell_type": "code",
   "execution_count": 4,
   "metadata": {
    "colab": {
     "base_uri": "https://localhost:8080/",
     "height": 441
    },
    "id": "AN7sEOcMYC4P",
    "outputId": "e54c0de8-65da-41ff-9e8a-683017990928",
    "pycharm": {
     "name": "#%%\n"
    }
   },
   "outputs": [
    {
     "name": "stderr",
     "output_type": "stream",
     "text": [
      "/Users/Ibrahim/opt/anaconda3/lib/python3.8/site-packages/seaborn/_decorators.py:36: FutureWarning: Pass the following variables as keyword args: x, y. From version 0.12, the only valid positional argument will be `data`, and passing other arguments without an explicit keyword will result in an error or misinterpretation.\n",
      "  warnings.warn(\n"
     ]
    },
    {
     "data": {
      "text/plain": [
       "(0.0, 50000.0)"
      ]
     },
     "execution_count": 4,
     "metadata": {},
     "output_type": "execute_result"
    },
    {
     "data": {
      "image/png": "[encoded data removed]",
      "text/plain": [
       "<Figure size 425.125x360 with 1 Axes>"
      ]
     },
     "metadata": {
      "needs_background": "light"
     },
     "output_type": "display_data"
    }
   ],
   "source": [
    "# Call your bootstrap function and plot the results\n",
    "\n",
    "boots = []\n",
    "for i in range(100, 50000, 1000):\n",
    "    boot = bootstrap_mean(data, data.shape[0], i)\n",
    "    boots.append([i, boot[0], \"mean\"])\n",
    "    boots.append([i, boot[1], \"lower\"])\n",
    "    boots.append([i, boot[2], \"upper\"])\n",
    "\n",
    "df_boot = pd.DataFrame(boots, columns=['Bootstrap Iterations', 'Mean', \"Value\"])\n",
    "sns_plot = sns.lmplot(df_boot.columns[0], df_boot.columns[1], data=df_boot, fit_reg=False, hue=\"Value\")\n",
    "\n",
    "sns_plot.axes[0, 0].set_ylim(0,)\n",
    "sns_plot.axes[0, 0].set_xlim(0, 50000)\n"
   ]
  },
  {
   "cell_type": "markdown",
   "metadata": {
    "id": "MjtP4e2_YC4V"
   },
   "source": [
    "\n",
    "Now, modify the bootstrap function you created above so that you can pass your desired confidence interval as a parameter.\n",
    "\n"
   ]
  },
  {
   "cell_type": "code",
   "execution_count": 5,
   "metadata": {
    "id": "3K9j0FuGYhHs"
   },
   "outputs": [],
   "source": [
    "def bootstrap_mean_ci(sample, sample_size, n_bootstraps, ci):\n",
    "\t# <---INSERT YOUR CODE HERE--->\n",
    "  samp = np.random.choice(sample, (n_bootstraps, sample_size))\n",
    "  data_mean = np.mean(samp)\n",
    "  row_mean = np.zeros(n_bootstraps)\n",
    "  for i in range(n_bootstraps):\n",
    "    row_mean[i] = np.mean(samp[i, :])\n",
    "  lower = np.percentile(row_mean, (100 - ci) / 2)\n",
    "  upper = np.percentile(row_mean, 100 - (100 - ci) / 2)\n",
    "  return data_mean, lower, upper\n",
    "\n",
    "def bootstrap_std_ci(sample, sample_size, n_bootstraps, ci): #bootstrap standard deviation confidence interval\n",
    "  samp = np.random.choice(sample, (n_bootstraps, sample_size))\n",
    "  data_std = np.std(samp)\n",
    "  row_std = np.zeros(n_bootstraps)\n",
    "  for i in range(n_bootstraps):\n",
    "    row_std[i] = np.std(samp[i, :])\n",
    "  lower = np.percentile(row_std, (100 - ci) / 2)\n",
    "  upper = np.percentile(row_std, 100 - (100 - ci) / 2)\n",
    "  return data_std, lower, upper"
   ]
  },
  {
   "cell_type": "code",
   "execution_count": null,
   "metadata": {},
   "outputs": [],
   "source": []
  },
  {
   "cell_type": "code",
   "execution_count": 6,
   "metadata": {
    "colab": {
     "base_uri": "https://localhost:8080/",
     "height": 441
    },
    "id": "uDnjq08GYl-C",
    "outputId": "f7dd1853-d27f-4d24-d980-ee33cdd95663"
   },
   "outputs": [
    {
     "name": "stderr",
     "output_type": "stream",
     "text": [
      "/Users/Ibrahim/opt/anaconda3/lib/python3.8/site-packages/seaborn/_decorators.py:36: FutureWarning: Pass the following variables as keyword args: x, y. From version 0.12, the only valid positional argument will be `data`, and passing other arguments without an explicit keyword will result in an error or misinterpretation.\n",
      "  warnings.warn(\n"
     ]
    },
    {
     "data": {
      "text/plain": [
       "(0.0, 50000.0)"
      ]
     },
     "execution_count": 6,
     "metadata": {},
     "output_type": "execute_result"
    },
    {
     "data": {
      "image/png": "[encoded data removed]",
      "text/plain": [
       "<Figure size 425.125x360 with 1 Axes>"
      ]
     },
     "metadata": {
      "needs_background": "light"
     },
     "output_type": "display_data"
    }
   ],
   "source": [
    "boots = []\n",
    "for i in range(100, 50000, 1000):\n",
    "    boot = bootstrap_mean_ci(data, data.shape[0], i, 80)\n",
    "    boots.append([i, boot[0], \"mean\"])\n",
    "    boots.append([i, boot[1], \"lower\"])\n",
    "    boots.append([i, boot[2], \"upper\"])\n",
    "\n",
    "df_boot = pd.DataFrame(boots, columns=['Bootstrap Iterations', 'Mean', \"Value\"])\n",
    "sns_plot = sns.lmplot(df_boot.columns[0], df_boot.columns[1], data=df_boot, fit_reg=False, hue=\"Value\")\n",
    "\n",
    "sns_plot.axes[0, 0].set_ylim(0,)\n",
    "sns_plot.axes[0, 0].set_xlim(0, 50000)\n",
    "\n",
    "#sns_plot.savefig(\"bootstrap_confidence_80.pdf\", bbox_inches='tight')\n"
   ]
  },
  {
   "cell_type": "markdown",
   "metadata": {
    "id": "qjNgXW6wdd7r"
   },
   "source": [
    "# Vehicles dataset\n",
    "\n",
    "Now let's work on a different dataset, which is stored in the vehicles.csv file.\n"
   ]
  },
  {
   "cell_type": "code",
   "execution_count": 7,
   "metadata": {
    "id": "avWv4ipFdpka"
   },
   "outputs": [],
   "source": [
    "# Load and visualise the vehicles dataset\n",
    "# To load the dataset: https://neptune.ai/blog/google-colab-dealing-with-files (check section \"Load individual files directly from GitHub\")\n",
    "\n",
    "\n",
    "# Note that the current and new fleets are in different columns and have different lengths, so bear this in mind when you're plotting.\n",
    "# You can create separate scatterplots for the two fleets, as you would with the histograms, \n",
    "# or plot them both in one plot (but not one against the other).\n",
    "# <---INSERT YOUR CODE HERE--->\n",
    "df_veh = pd.read_csv('https://raw.githubusercontent.com/albanda/CE888/master/lab2%20-%20bootstrap/vehicles.csv')\n",
    "df_cus = pd.read_csv('https://raw.githubusercontent.com/albanda/CE888/master/lab2%20-%20bootstrap/customers.csv')\n",
    "# Note: you can add more cells as needed to organise your code and your plots\n"
   ]
  },
  {
   "cell_type": "code",
   "execution_count": 8,
   "metadata": {
    "colab": {
     "base_uri": "https://localhost:8080/",
     "height": 424
    },
    "id": "RXJhIYrZ54N6",
    "outputId": "7cffe518-4b99-41a5-d2d9-2bd2ed831202"
   },
   "outputs": [
    {
     "data": {
      "text/html": [
       "<div>\n",
       "<style scoped>\n",
       "    .dataframe tbody tr th:only-of-type {\n",
       "        vertical-align: middle;\n",
       "    }\n",
       "\n",
       "    .dataframe tbody tr th {\n",
       "        vertical-align: top;\n",
       "    }\n",
       "\n",
       "    .dataframe thead th {\n",
       "        text-align: right;\n",
       "    }\n",
       "</style>\n",
       "<table border=\"1\" class=\"dataframe\">\n",
       "  <thead>\n",
       "    <tr style=\"text-align: right;\">\n",
       "      <th></th>\n",
       "      <th>Current fleet</th>\n",
       "      <th>New Fleet</th>\n",
       "    </tr>\n",
       "  </thead>\n",
       "  <tbody>\n",
       "    <tr>\n",
       "      <th>0</th>\n",
       "      <td>18</td>\n",
       "      <td>24.0</td>\n",
       "    </tr>\n",
       "    <tr>\n",
       "      <th>1</th>\n",
       "      <td>15</td>\n",
       "      <td>27.0</td>\n",
       "    </tr>\n",
       "    <tr>\n",
       "      <th>2</th>\n",
       "      <td>18</td>\n",
       "      <td>27.0</td>\n",
       "    </tr>\n",
       "    <tr>\n",
       "      <th>3</th>\n",
       "      <td>16</td>\n",
       "      <td>25.0</td>\n",
       "    </tr>\n",
       "    <tr>\n",
       "      <th>4</th>\n",
       "      <td>17</td>\n",
       "      <td>31.0</td>\n",
       "    </tr>\n",
       "    <tr>\n",
       "      <th>...</th>\n",
       "      <td>...</td>\n",
       "      <td>...</td>\n",
       "    </tr>\n",
       "    <tr>\n",
       "      <th>244</th>\n",
       "      <td>27</td>\n",
       "      <td>NaN</td>\n",
       "    </tr>\n",
       "    <tr>\n",
       "      <th>245</th>\n",
       "      <td>27</td>\n",
       "      <td>NaN</td>\n",
       "    </tr>\n",
       "    <tr>\n",
       "      <th>246</th>\n",
       "      <td>32</td>\n",
       "      <td>NaN</td>\n",
       "    </tr>\n",
       "    <tr>\n",
       "      <th>247</th>\n",
       "      <td>28</td>\n",
       "      <td>NaN</td>\n",
       "    </tr>\n",
       "    <tr>\n",
       "      <th>248</th>\n",
       "      <td>31</td>\n",
       "      <td>NaN</td>\n",
       "    </tr>\n",
       "  </tbody>\n",
       "</table>\n",
       "<p>249 rows × 2 columns</p>\n",
       "</div>"
      ],
      "text/plain": [
       "     Current fleet  New Fleet\n",
       "0               18       24.0\n",
       "1               15       27.0\n",
       "2               18       27.0\n",
       "3               16       25.0\n",
       "4               17       31.0\n",
       "..             ...        ...\n",
       "244             27        NaN\n",
       "245             27        NaN\n",
       "246             32        NaN\n",
       "247             28        NaN\n",
       "248             31        NaN\n",
       "\n",
       "[249 rows x 2 columns]"
      ]
     },
     "execution_count": 8,
     "metadata": {},
     "output_type": "execute_result"
    }
   ],
   "source": [
    "df_veh\n",
    "# vehicles has two columns for current and new fleet"
   ]
  },
  {
   "cell_type": "code",
   "execution_count": 9,
   "metadata": {
    "colab": {
     "base_uri": "https://localhost:8080/",
     "height": 488
    },
    "id": "cBDCAlfH58vp",
    "outputId": "93609b0b-8eb4-4063-c999-5ede1071ea06",
    "scrolled": true
   },
   "outputs": [
    {
     "data": {
      "text/html": [
       "<div>\n",
       "<style scoped>\n",
       "    .dataframe tbody tr th:only-of-type {\n",
       "        vertical-align: middle;\n",
       "    }\n",
       "\n",
       "    .dataframe tbody tr th {\n",
       "        vertical-align: top;\n",
       "    }\n",
       "\n",
       "    .dataframe thead th {\n",
       "        text-align: right;\n",
       "    }\n",
       "</style>\n",
       "<table border=\"1\" class=\"dataframe\">\n",
       "  <thead>\n",
       "    <tr style=\"text-align: right;\">\n",
       "      <th></th>\n",
       "      <th>Day</th>\n",
       "      <th>Millons of pounds in sales</th>\n",
       "    </tr>\n",
       "  </thead>\n",
       "  <tbody>\n",
       "    <tr>\n",
       "      <th>0</th>\n",
       "      <td>1</td>\n",
       "      <td>2.0</td>\n",
       "    </tr>\n",
       "    <tr>\n",
       "      <th>1</th>\n",
       "      <td>2</td>\n",
       "      <td>8.0</td>\n",
       "    </tr>\n",
       "    <tr>\n",
       "      <th>2</th>\n",
       "      <td>3</td>\n",
       "      <td>20.0</td>\n",
       "    </tr>\n",
       "    <tr>\n",
       "      <th>3</th>\n",
       "      <td>4</td>\n",
       "      <td>13.0</td>\n",
       "    </tr>\n",
       "    <tr>\n",
       "      <th>4</th>\n",
       "      <td>5</td>\n",
       "      <td>5.0</td>\n",
       "    </tr>\n",
       "    <tr>\n",
       "      <th>5</th>\n",
       "      <td>6</td>\n",
       "      <td>9.0</td>\n",
       "    </tr>\n",
       "    <tr>\n",
       "      <th>6</th>\n",
       "      <td>7</td>\n",
       "      <td>10.0</td>\n",
       "    </tr>\n",
       "    <tr>\n",
       "      <th>7</th>\n",
       "      <td>8</td>\n",
       "      <td>8.0</td>\n",
       "    </tr>\n",
       "    <tr>\n",
       "      <th>8</th>\n",
       "      <td>9</td>\n",
       "      <td>22.0</td>\n",
       "    </tr>\n",
       "    <tr>\n",
       "      <th>9</th>\n",
       "      <td>10</td>\n",
       "      <td>10.0</td>\n",
       "    </tr>\n",
       "    <tr>\n",
       "      <th>10</th>\n",
       "      <td>11</td>\n",
       "      <td>2.0</td>\n",
       "    </tr>\n",
       "    <tr>\n",
       "      <th>11</th>\n",
       "      <td>12</td>\n",
       "      <td>4.0</td>\n",
       "    </tr>\n",
       "    <tr>\n",
       "      <th>12</th>\n",
       "      <td>13</td>\n",
       "      <td>7.0</td>\n",
       "    </tr>\n",
       "    <tr>\n",
       "      <th>13</th>\n",
       "      <td>14</td>\n",
       "      <td>9.0</td>\n",
       "    </tr>\n",
       "  </tbody>\n",
       "</table>\n",
       "</div>"
      ],
      "text/plain": [
       "    Day   Millons of pounds in sales\n",
       "0     1                          2.0\n",
       "1     2                          8.0\n",
       "2     3                         20.0\n",
       "3     4                         13.0\n",
       "4     5                          5.0\n",
       "5     6                          9.0\n",
       "6     7                         10.0\n",
       "7     8                          8.0\n",
       "8     9                         22.0\n",
       "9    10                         10.0\n",
       "10   11                          2.0\n",
       "11   12                          4.0\n",
       "12   13                          7.0\n",
       "13   14                          9.0"
      ]
     },
     "execution_count": 9,
     "metadata": {},
     "output_type": "execute_result"
    }
   ],
   "source": [
    "df_cus"
   ]
  },
  {
   "cell_type": "code",
   "execution_count": 17,
   "metadata": {},
   "outputs": [],
   "source": [
    "current_fleet = df_veh.values.T[0]\n",
    "new_fleet = df_veh.values.T[1]\n",
    "customers = df_cus.values.T[1]"
   ]
  },
  {
   "cell_type": "code",
   "execution_count": 12,
   "metadata": {},
   "outputs": [
    {
     "data": {
      "text/plain": [
       "array([18., 15., 18., 16., 17., 15., 14., 14., 14., 15., 15., 14., 15.,\n",
       "       14., 22., 18., 21., 21., 10., 10., 11.,  9., 28., 25., 19., 16.,\n",
       "       17., 19., 18., 14., 14., 14., 14., 12., 13., 13., 18., 22., 19.,\n",
       "       18., 23., 26., 25., 20., 21., 13., 14., 15., 14., 17., 11., 13.,\n",
       "       12., 13., 15., 13., 13., 14., 22., 28., 13., 14., 13., 14., 15.,\n",
       "       12., 13., 13., 14., 13., 12., 13., 18., 16., 18., 18., 23., 11.,\n",
       "       12., 13., 12., 18., 21., 19., 21., 15., 16., 15., 11., 20., 21.,\n",
       "       19., 15., 26., 25., 16., 16., 18., 16., 13., 14., 14., 14., 28.,\n",
       "       19., 18., 15., 15., 16., 15., 16., 14., 17., 16., 15., 18., 21.,\n",
       "       20., 13., 23., 20., 23., 18., 19., 25., 26., 18., 16., 16., 15.,\n",
       "       22., 22., 24., 23., 29., 25., 20., 18., 19., 18., 27., 13., 17.,\n",
       "       13., 13., 13., 30., 26., 18., 17., 16., 15., 18., 21., 19., 19.,\n",
       "       16., 16., 16., 16., 25., 26., 31., 34., 36., 20., 19., 20., 19.,\n",
       "       21., 20., 25., 21., 19., 21., 21., 19., 18., 19., 18., 18., 18.,\n",
       "       30., 31., 23., 24., 22., 20., 22., 20., 21., 17., 18., 17., 18.,\n",
       "       17., 16., 19., 19., 36., 27., 23., 24., 34., 35., 28., 29., 27.,\n",
       "       34., 32., 28., 26., 24., 19., 28., 24., 27., 27., 26., 24., 30.,\n",
       "       39., 35., 34., 30., 22., 27., 20., 18., 28., 27., 34., 31., 29.,\n",
       "       27., 24., 23., 38., 36., 25., 38., 26., 22., 36., 27., 27., 32.,\n",
       "       28., 31.])"
      ]
     },
     "execution_count": 12,
     "metadata": {},
     "output_type": "execute_result"
    }
   ],
   "source": [
    "current_fleet"
   ]
  },
  {
   "cell_type": "code",
   "execution_count": 18,
   "metadata": {},
   "outputs": [
    {
     "data": {
      "text/plain": [
       "array([24., 27., 27., 25., 31., 35., 24., 19., 28., 23., 27., 20., 22.,\n",
       "       18., 20., 31., 32., 31., 32., 24., 26., 29., 24., 24., 33., 33.,\n",
       "       32., 28., 19., 32., 34., 26., 30., 22., 22., 33., 39., 36., 28.,\n",
       "       27., 21., 24., 30., 34., 32., 38., 37., 30., 31., 37., 32., 47.,\n",
       "       41., 45., 34., 33., 24., 32., 39., 35., 32., 37., 38., 34., 34.,\n",
       "       32., 33., 32., 25., 24., 37., 31., 36., 36., 34., 38., 32., 38.,\n",
       "       32., nan, nan, nan, nan, nan, nan, nan, nan, nan, nan, nan, nan,\n",
       "       nan, nan, nan, nan, nan, nan, nan, nan, nan, nan, nan, nan, nan,\n",
       "       nan, nan, nan, nan, nan, nan, nan, nan, nan, nan, nan, nan, nan,\n",
       "       nan, nan, nan, nan, nan, nan, nan, nan, nan, nan, nan, nan, nan,\n",
       "       nan, nan, nan, nan, nan, nan, nan, nan, nan, nan, nan, nan, nan,\n",
       "       nan, nan, nan, nan, nan, nan, nan, nan, nan, nan, nan, nan, nan,\n",
       "       nan, nan, nan, nan, nan, nan, nan, nan, nan, nan, nan, nan, nan,\n",
       "       nan, nan, nan, nan, nan, nan, nan, nan, nan, nan, nan, nan, nan,\n",
       "       nan, nan, nan, nan, nan, nan, nan, nan, nan, nan, nan, nan, nan,\n",
       "       nan, nan, nan, nan, nan, nan, nan, nan, nan, nan, nan, nan, nan,\n",
       "       nan, nan, nan, nan, nan, nan, nan, nan, nan, nan, nan, nan, nan,\n",
       "       nan, nan, nan, nan, nan, nan, nan, nan, nan, nan, nan, nan, nan,\n",
       "       nan, nan, nan, nan, nan, nan, nan, nan, nan, nan, nan, nan, nan,\n",
       "       nan, nan])"
      ]
     },
     "execution_count": 18,
     "metadata": {},
     "output_type": "execute_result"
    }
   ],
   "source": [
    "new_fleet\n",
    "# has several nans"
   ]
  },
  {
   "cell_type": "code",
   "execution_count": 19,
   "metadata": {},
   "outputs": [],
   "source": [
    "new_fleet = new_fleet[~np.isnan(new_fleet)]"
   ]
  },
  {
   "cell_type": "code",
   "execution_count": 20,
   "metadata": {},
   "outputs": [
    {
     "data": {
      "text/plain": [
       "array([24., 27., 27., 25., 31., 35., 24., 19., 28., 23., 27., 20., 22.,\n",
       "       18., 20., 31., 32., 31., 32., 24., 26., 29., 24., 24., 33., 33.,\n",
       "       32., 28., 19., 32., 34., 26., 30., 22., 22., 33., 39., 36., 28.,\n",
       "       27., 21., 24., 30., 34., 32., 38., 37., 30., 31., 37., 32., 47.,\n",
       "       41., 45., 34., 33., 24., 32., 39., 35., 32., 37., 38., 34., 34.,\n",
       "       32., 33., 32., 25., 24., 37., 31., 36., 36., 34., 38., 32., 38.,\n",
       "       32.])"
      ]
     },
     "execution_count": 20,
     "metadata": {},
     "output_type": "execute_result"
    }
   ],
   "source": [
    "new_fleet"
   ]
  },
  {
   "cell_type": "code",
   "execution_count": 21,
   "metadata": {},
   "outputs": [
    {
     "data": {
      "text/plain": [
       "array([ 2.,  8., 20., 13.,  5.,  9., 10.,  8., 22., 10.,  2.,  4.,  7.,\n",
       "        9.])"
      ]
     },
     "execution_count": 21,
     "metadata": {},
     "output_type": "execute_result"
    }
   ],
   "source": [
    "customers"
   ]
  },
  {
   "cell_type": "code",
   "execution_count": 64,
   "metadata": {},
   "outputs": [
    {
     "data": {
      "text/plain": [
       "(9.234628571428571, 6.5, 12.357142857142858)"
      ]
     },
     "execution_count": 64,
     "metadata": {},
     "output_type": "execute_result"
    }
   ],
   "source": [
    "bootstrap_mean_ci(customers, customers.shape[0], 10000, 95)"
   ]
  },
  {
   "cell_type": "code",
   "execution_count": 59,
   "metadata": {},
   "outputs": [
    {
     "data": {
      "text/plain": [
       "(20.14314297188755, 19.630522088353413, 20.65461847389558)"
      ]
     },
     "execution_count": 59,
     "metadata": {},
     "output_type": "execute_result"
    }
   ],
   "source": [
    "bootstrap_mean_ci(current_fleet, current_fleet.shape[0], 10000, 80)"
   ]
  },
  {
   "cell_type": "code",
   "execution_count": 65,
   "metadata": {},
   "outputs": [
    {
     "data": {
      "text/plain": [
       "(30.48423164556962, 29.139240506329113, 31.810126582278482)"
      ]
     },
     "execution_count": 65,
     "metadata": {},
     "output_type": "execute_result"
    }
   ],
   "source": [
    "bootstrap_mean_ci(new_fleet, new_fleet.shape[0], 10000, 95)"
   ]
  },
  {
   "cell_type": "code",
   "execution_count": 66,
   "metadata": {},
   "outputs": [
    {
     "data": {
      "text/plain": [
       "(6.399724027059467, 5.787660960460917, 6.948564968114125)"
      ]
     },
     "execution_count": 66,
     "metadata": {},
     "output_type": "execute_result"
    }
   ],
   "source": [
    "bootstrap_std_ci(current_fleet, current_fleet.shape[0], 10000, 95)"
   ]
  },
  {
   "cell_type": "code",
   "execution_count": 68,
   "metadata": {},
   "outputs": [
    {
     "data": {
      "text/plain": [
       "(6.070848478148031, 4.893457826840469, 7.1737487438114265)"
      ]
     },
     "execution_count": 68,
     "metadata": {},
     "output_type": "execute_result"
    }
   ],
   "source": [
    "bootstrap_std_ci(new_fleet, new_fleet.shape[0], 10000, 99)"
   ]
  },
  {
   "cell_type": "code",
   "execution_count": 61,
   "metadata": {},
   "outputs": [
    {
     "data": {
      "text/plain": [
       "(5.689071738236927, 3.291919606229403, 6.934542707963977)"
      ]
     },
     "execution_count": 61,
     "metadata": {},
     "output_type": "execute_result"
    }
   ],
   "source": [
    "bootstrap_std_ci(customers, customers.shape[0], 10000, 85)"
   ]
  },
  {
   "cell_type": "code",
   "execution_count": 31,
   "metadata": {},
   "outputs": [
    {
     "name": "stderr",
     "output_type": "stream",
     "text": [
      "/Users/Ibrahim/opt/anaconda3/lib/python3.8/site-packages/seaborn/_decorators.py:36: FutureWarning: Pass the following variables as keyword args: x, y. From version 0.12, the only valid positional argument will be `data`, and passing other arguments without an explicit keyword will result in an error or misinterpretation.\n",
      "  warnings.warn(\n"
     ]
    },
    {
     "data": {
      "text/plain": [
       "(0.0, 50000.0)"
      ]
     },
     "execution_count": 31,
     "metadata": {},
     "output_type": "execute_result"
    },
    {
     "data": {
      "image/png": "[encoded data removed]",
      "text/plain": [
       "<Figure size 425.125x360 with 1 Axes>"
      ]
     },
     "metadata": {
      "needs_background": "light"
     },
     "output_type": "display_data"
    }
   ],
   "source": [
    "boots = []\n",
    "for i in range(100, 50000, 1000):\n",
    "    boot = bootstrap_mean_ci(current_fleet, current_fleet.shape[0], i, 80)\n",
    "    boots.append([i, boot[0], \"mean\"])\n",
    "    boots.append([i, boot[1], \"lower\"])\n",
    "    boots.append([i, boot[2], \"upper\"])\n",
    "\n",
    "df_boot = pd.DataFrame(boots, columns=['Bootstrap Iterations', 'Mean', \"Value\"])\n",
    "sns_plot = sns.lmplot(df_boot.columns[0], df_boot.columns[1], data=df_boot, fit_reg=False, hue=\"Value\")\n",
    "\n",
    "sns_plot.axes[0, 0].set_ylim(0,)\n",
    "sns_plot.axes[0, 0].set_xlim(0, 50000)\n",
    "\n",
    "#sns_plot.savefig(\"bootstrap_confidence_80.pdf\", bbox_inches='tight')"
   ]
  },
  {
   "cell_type": "code",
   "execution_count": 30,
   "metadata": {},
   "outputs": [
    {
     "name": "stderr",
     "output_type": "stream",
     "text": [
      "/Users/Ibrahim/opt/anaconda3/lib/python3.8/site-packages/seaborn/_decorators.py:36: FutureWarning: Pass the following variables as keyword args: x, y. From version 0.12, the only valid positional argument will be `data`, and passing other arguments without an explicit keyword will result in an error or misinterpretation.\n",
      "  warnings.warn(\n"
     ]
    },
    {
     "data": {
      "text/plain": [
       "(0.0, 50000.0)"
      ]
     },
     "execution_count": 30,
     "metadata": {},
     "output_type": "execute_result"
    },
    {
     "data": {
      "image/png": "[encoded data removed]",
      "text/plain": [
       "<Figure size 425.125x360 with 1 Axes>"
      ]
     },
     "metadata": {
      "needs_background": "light"
     },
     "output_type": "display_data"
    }
   ],
   "source": [
    "boots = []\n",
    "for i in range(100, 50000, 1000):\n",
    "    boot = bootstrap_mean_ci(new_fleet, new_fleet.shape[0], i, 80)\n",
    "    boots.append([i, boot[0], \"mean\"])\n",
    "    boots.append([i, boot[1], \"lower\"])\n",
    "    boots.append([i, boot[2], \"upper\"])\n",
    "\n",
    "df_boot = pd.DataFrame(boots, columns=['Bootstrap Iterations', 'Mean', \"Value\"])\n",
    "sns_plot = sns.lmplot(df_boot.columns[0], df_boot.columns[1], data=df_boot, fit_reg=False, hue=\"Value\")\n",
    "\n",
    "sns_plot.axes[0, 0].set_ylim(0,)\n",
    "sns_plot.axes[0, 0].set_xlim(0, 50000)\n",
    "\n",
    "#sns_plot.savefig(\"bootstrap_confidence_80.pdf\", bbox_inches='tight')"
   ]
  },
  {
   "cell_type": "markdown",
   "metadata": {
    "id": "B5d0tXDpIEj8"
   },
   "source": [
    "## Compare the two fleets\n",
    "\n",
    "The business analysts come up a comparison algorithm that requires the upper and lower bounds for the mean in order to say which fleet is better.\n",
    "1. Calculate the mean of both samples.\n",
    "2. Using the bootstrap function that you created:\n",
    "    - Construct the 95% CI of the mean of the current fleet.\n",
    "    - Construct the 95% CI of the mean of the new fleet.\n",
    "    - Are they comparable? (i.e., is one better than the other?) -- you can do this with a permutation test (check the lecture notes!)"
   ]
  },
  {
   "cell_type": "code",
   "execution_count": 32,
   "metadata": {
    "id": "po4mp6zRHC0m"
   },
   "outputs": [],
   "source": [
    "# <---INSERT YOUR CODE HERE--->\n",
    "current_fleet_mean = np.mean(current_fleet)\n",
    "new_fleet_mean = np.mean(new_fleet)"
   ]
  },
  {
   "cell_type": "code",
   "execution_count": 38,
   "metadata": {},
   "outputs": [],
   "source": [
    "def permutation_test(sample1, sample2, n_permutations):\n",
    "    \"\"\"\n",
    "    sample1: 1D array\n",
    "    sample2: 1D array (note that the size of the two arrays can be different)\n",
    "    n_permutations: number of permutations to calculate the p-value\n",
    "    \"\"\"\n",
    "    a1 = len(sample1) \n",
    "    a2 = len(sample2)\n",
    "    m_obs = np.mean(sample2) - np.mean(sample1)\n",
    "    p = []\n",
    "    for i in range(n_permutations):\n",
    "      concat = np.concatenate((sample1, sample2))\n",
    "      perm = np.random.permutation(concat)\n",
    "      p_old = perm[:a1]\n",
    "      p_new = perm[a1:]\n",
    "      m_perm = np.mean(p_new) - np.mean(p_old)\n",
    "      perms.append(m_perm > m_obs)    \n",
    "    pvalue = p.count(True) / n_permutations\n",
    "    return pvalue"
   ]
  },
  {
   "cell_type": "code",
   "execution_count": 43,
   "metadata": {},
   "outputs": [
    {
     "data": {
      "text/plain": [
       "0.0"
      ]
     },
     "execution_count": 43,
     "metadata": {},
     "output_type": "execute_result"
    }
   ],
   "source": [
    "permut_test(new_fleet, current_fleet, 30000)"
   ]
  },
  {
   "cell_type": "code",
   "execution_count": 44,
   "metadata": {},
   "outputs": [],
   "source": [
    "# The variables below represent the percentages of democratic votes in Pennsylvania and Ohio (one value for each state).\n",
    "dem_share_PA = [60.08, 40.64, 36.07, 41.21, 31.04, 43.78, 44.08, 46.85, 44.71, 46.15, 63.10, 52.20, 43.18, 40.24, 39.92, 47.87, 37.77, 40.11, 49.85, 48.61, 38.62, 54.25, 34.84, 47.75, 43.82, 55.97, 58.23, 42.97, 42.38, 36.11, 37.53, 42.65, 50.96, 47.43, 56.24, 45.60, 46.39, 35.22, 48.56, 32.97, 57.88, 36.05, 37.72, 50.36, 32.12, 41.55, 54.66, 57.81, 54.58, 32.88, 54.37, 40.45, 47.61, 60.49, 43.11, 27.32, 44.03, 33.56, 37.26, 54.64, 43.12, 25.34, 49.79, 83.56, 40.09, 60.81, 49.81]\n",
    "dem_share_OH = [56.94, 50.46, 65.99, 45.88, 42.23, 45.26, 57.01, 53.61, 59.10, 61.48, 43.43, 44.69, 54.59, 48.36, 45.89, 48.62, 43.92, 38.23, 28.79, 63.57, 38.07, 40.18, 43.05, 41.56, 42.49, 36.06, 52.76, 46.07, 39.43, 39.26, 47.47, 27.92, 38.01, 45.45, 29.07, 28.94, 51.28, 50.10, 39.84, 36.43, 35.71, 31.47, 47.01, 40.10, 48.76, 31.56, 39.86, 45.31, 35.47, 51.38, 46.33, 48.73, 41.77, 41.32, 48.46, 53.14, 34.01, 54.74, 40.67, 38.96, 46.29, 38.25, 6.80, 31.75, 46.33, 44.90, 33.57, 38.10, 39.67, 40.47, 49.44, 37.62, 36.71, 46.73, 42.20, 53.16, 52.40, 58.36, 68.02, 38.53, 34.58, 69.64, 60.50, 53.53, 36.54, 49.58, 41.97, 38.11]"
   ]
  },
  {
   "cell_type": "code",
   "execution_count": 46,
   "metadata": {},
   "outputs": [
    {
     "data": {
      "text/plain": [
       "67"
      ]
     },
     "execution_count": 46,
     "metadata": {},
     "output_type": "execute_result"
    }
   ],
   "source": [
    "len(dem_share_PA)"
   ]
  },
  {
   "cell_type": "code",
   "execution_count": 47,
   "metadata": {},
   "outputs": [
    {
     "data": {
      "text/plain": [
       "88"
      ]
     },
     "execution_count": 47,
     "metadata": {},
     "output_type": "execute_result"
    }
   ],
   "source": [
    "len(dem_share_OH)"
   ]
  },
  {
   "cell_type": "code",
   "execution_count": 69,
   "metadata": {},
   "outputs": [
    {
     "data": {
      "text/plain": [
       "(44.31620026090913, 42.59045454545455, 46.037386363636365)"
      ]
     },
     "execution_count": 69,
     "metadata": {},
     "output_type": "execute_result"
    }
   ],
   "source": [
    "bootstrap_mean_ci(dem_share_OH, len(dem_share_OH), 250000, 90)"
   ]
  },
  {
   "cell_type": "code",
   "execution_count": 70,
   "metadata": {},
   "outputs": [
    {
     "data": {
      "text/plain": [
       "(45.4777520179105, 43.54012686567164, 47.473134328358206)"
      ]
     },
     "execution_count": 70,
     "metadata": {},
     "output_type": "execute_result"
    }
   ],
   "source": [
    "bootstrap_mean_ci(dem_share_PA, len(dem_share_PA), 25000, 90)"
   ]
  },
  {
   "cell_type": "code",
   "execution_count": 53,
   "metadata": {},
   "outputs": [
    {
     "data": {
      "text/plain": [
       "0.23303333333333334"
      ]
     },
     "execution_count": 53,
     "metadata": {},
     "output_type": "execute_result"
    }
   ],
   "source": [
    "permut_test(dem_share_PA,dem_share_OH,30000)"
   ]
  },
  {
   "cell_type": "code",
   "execution_count": null,
   "metadata": {},
   "outputs": [],
   "source": []
  }
 ],
 "metadata": {
  "colab": {
   "name": "bootstrap.ipynb",
   "provenance": []
  },
  "kernelspec": {
   "display_name": "Python 3",
   "language": "python",
   "name": "python3"
  },
  "language_info": {
   "codemirror_mode": {
    "name": "ipython",
    "version": 3
   },
   "file_extension": ".py",
   "mimetype": "text/x-python",
   "name": "python",
   "nbconvert_exporter": "python",
   "pygments_lexer": "ipython3",
   "version": "3.8.8"
  },
  "pycharm": {
   "stem_cell": {
    "cell_type": "raw",
    "metadata": {
     "collapsed": false
    },
    "source": []
   }
  }
 },
 "nbformat": 4,
 "nbformat_minor": 1
}
