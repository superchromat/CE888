{
  "cells": [
    {
      "cell_type": "markdown",
      "metadata": {
        "id": "gS1IIAS-bcb-"
      },
      "source": [
        "# Learning from Sequences: Timeseries and Text\n",
        "\n",
        "Created by Dr Ana Matran-Fernandez (amatra@essex.ac.uk) for CE888 (Data Science and Decision Making)\n",
        "\n",
        "This notebook accompanies lecture 8 and illustrates recurrent neural networks on an example of a timeseries (predicting tomorrow's temperature) and a classification problem on the IMDB text dataset."
      ]
    },
    {
      "cell_type": "markdown",
      "metadata": {
        "id": "0myiQp20cxRK"
      },
      "source": [
        "# Imports"
      ]
    },
    {
      "cell_type": "code",
      "execution_count": 52,
      "metadata": {
        "id": "1J0bYBQ7_a0L"
      },
      "outputs": [],
      "source": [
        "# imports\n",
        "import numpy as np\n",
        "import matplotlib.pyplot as plt\n",
        "import os\n",
        "import pandas as pd\n",
        "from sklearn.model_selection import train_test_split"
      ]
    },
    {
      "cell_type": "code",
      "execution_count": 53,
      "metadata": {
        "id": "U0NPDv7X_a0M"
      },
      "outputs": [],
      "source": [
        "# tensorflow imports\n",
        "from tensorflow import keras\n",
        "from keras import layers, models\n",
        "from keras.callbacks import EarlyStopping, ModelCheckpoint"
      ]
    },
    {
      "cell_type": "markdown",
      "metadata": {
        "id": "xaiw_VZjbtSH"
      },
      "source": [
        "# Timeseries"
      ]
    },
    {
      "cell_type": "code",
      "execution_count": 54,
      "metadata": {
        "colab": {
          "base_uri": "https://localhost:8080/",
          "height": 424
        },
        "id": "iA_R1Q-K_a0N",
        "outputId": "348ea85e-028b-4e7c-c0e0-a709fb4733fd"
      },
      "outputs": [
        {
          "output_type": "execute_result",
          "data": {
            "text/html": [
              "\n",
              "  <div id=\"df-46a327c0-7560-4635-a9aa-3b69b5ccf414\">\n",
              "    <div class=\"colab-df-container\">\n",
              "      <div>\n",
              "<style scoped>\n",
              "    .dataframe tbody tr th:only-of-type {\n",
              "        vertical-align: middle;\n",
              "    }\n",
              "\n",
              "    .dataframe tbody tr th {\n",
              "        vertical-align: top;\n",
              "    }\n",
              "\n",
              "    .dataframe thead th {\n",
              "        text-align: right;\n",
              "    }\n",
              "</style>\n",
              "<table border=\"1\" class=\"dataframe\">\n",
              "  <thead>\n",
              "    <tr style=\"text-align: right;\">\n",
              "      <th></th>\n",
              "      <th>date</th>\n",
              "      <th>radiation_avg</th>\n",
              "      <th>precip</th>\n",
              "      <th>wind_avg</th>\n",
              "      <th>wind_max</th>\n",
              "      <th>temp_avg</th>\n",
              "      <th>humidity_avg</th>\n",
              "    </tr>\n",
              "  </thead>\n",
              "  <tbody>\n",
              "    <tr>\n",
              "      <th>0</th>\n",
              "      <td>14/05/2014 00:00</td>\n",
              "      <td>159</td>\n",
              "      <td>0.0</td>\n",
              "      <td>1.4</td>\n",
              "      <td>3.3</td>\n",
              "      <td>14.27</td>\n",
              "      <td>64.95</td>\n",
              "    </tr>\n",
              "    <tr>\n",
              "      <th>1</th>\n",
              "      <td>15/05/2014 00:00</td>\n",
              "      <td>280</td>\n",
              "      <td>0.0</td>\n",
              "      <td>0.6</td>\n",
              "      <td>2.3</td>\n",
              "      <td>13.51</td>\n",
              "      <td>72.91</td>\n",
              "    </tr>\n",
              "    <tr>\n",
              "      <th>2</th>\n",
              "      <td>16/05/2014 00:00</td>\n",
              "      <td>186</td>\n",
              "      <td>3.4</td>\n",
              "      <td>0.8</td>\n",
              "      <td>2.7</td>\n",
              "      <td>15.65</td>\n",
              "      <td>74.69</td>\n",
              "    </tr>\n",
              "    <tr>\n",
              "      <th>3</th>\n",
              "      <td>17/05/2014 00:00</td>\n",
              "      <td>221</td>\n",
              "      <td>0.0</td>\n",
              "      <td>1.0</td>\n",
              "      <td>3.3</td>\n",
              "      <td>17.46</td>\n",
              "      <td>71.42</td>\n",
              "    </tr>\n",
              "    <tr>\n",
              "      <th>4</th>\n",
              "      <td>18/05/2014 00:00</td>\n",
              "      <td>255</td>\n",
              "      <td>0.0</td>\n",
              "      <td>2.1</td>\n",
              "      <td>5.5</td>\n",
              "      <td>16.85</td>\n",
              "      <td>74.45</td>\n",
              "    </tr>\n",
              "    <tr>\n",
              "      <th>...</th>\n",
              "      <td>...</td>\n",
              "      <td>...</td>\n",
              "      <td>...</td>\n",
              "      <td>...</td>\n",
              "      <td>...</td>\n",
              "      <td>...</td>\n",
              "      <td>...</td>\n",
              "    </tr>\n",
              "    <tr>\n",
              "      <th>2551</th>\n",
              "      <td>17/05/2021 00:00</td>\n",
              "      <td>196</td>\n",
              "      <td>1.4</td>\n",
              "      <td>2.2</td>\n",
              "      <td>5.5</td>\n",
              "      <td>10.51</td>\n",
              "      <td>99.86</td>\n",
              "    </tr>\n",
              "    <tr>\n",
              "      <th>2552</th>\n",
              "      <td>17/05/2021 00:00</td>\n",
              "      <td>173</td>\n",
              "      <td>2.8</td>\n",
              "      <td>1.8</td>\n",
              "      <td>5.5</td>\n",
              "      <td>10.80</td>\n",
              "      <td>99.86</td>\n",
              "    </tr>\n",
              "    <tr>\n",
              "      <th>2553</th>\n",
              "      <td>18/05/2021 00:00</td>\n",
              "      <td>311</td>\n",
              "      <td>0.0</td>\n",
              "      <td>1.4</td>\n",
              "      <td>5.0</td>\n",
              "      <td>10.29</td>\n",
              "      <td>92.94</td>\n",
              "    </tr>\n",
              "    <tr>\n",
              "      <th>2554</th>\n",
              "      <td>19/05/2021 00:00</td>\n",
              "      <td>232</td>\n",
              "      <td>6.6</td>\n",
              "      <td>1.8</td>\n",
              "      <td>5.5</td>\n",
              "      <td>11.39</td>\n",
              "      <td>90.32</td>\n",
              "    </tr>\n",
              "    <tr>\n",
              "      <th>2555</th>\n",
              "      <td>20/05/2021 00:00</td>\n",
              "      <td>44</td>\n",
              "      <td>0.0</td>\n",
              "      <td>0.5</td>\n",
              "      <td>2.7</td>\n",
              "      <td>6.35</td>\n",
              "      <td>99.86</td>\n",
              "    </tr>\n",
              "  </tbody>\n",
              "</table>\n",
              "<p>2556 rows × 7 columns</p>\n",
              "</div>\n",
              "      <button class=\"colab-df-convert\" onclick=\"convertToInteractive('df-46a327c0-7560-4635-a9aa-3b69b5ccf414')\"\n",
              "              title=\"Convert this dataframe to an interactive table.\"\n",
              "              style=\"display:none;\">\n",
              "        \n",
              "  <svg xmlns=\"http://www.w3.org/2000/svg\" height=\"24px\"viewBox=\"0 0 24 24\"\n",
              "       width=\"24px\">\n",
              "    <path d=\"M0 0h24v24H0V0z\" fill=\"none\"/>\n",
              "    <path d=\"M18.56 5.44l.94 2.06.94-2.06 2.06-.94-2.06-.94-.94-2.06-.94 2.06-2.06.94zm-11 1L8.5 8.5l.94-2.06 2.06-.94-2.06-.94L8.5 2.5l-.94 2.06-2.06.94zm10 10l.94 2.06.94-2.06 2.06-.94-2.06-.94-.94-2.06-.94 2.06-2.06.94z\"/><path d=\"M17.41 7.96l-1.37-1.37c-.4-.4-.92-.59-1.43-.59-.52 0-1.04.2-1.43.59L10.3 9.45l-7.72 7.72c-.78.78-.78 2.05 0 2.83L4 21.41c.39.39.9.59 1.41.59.51 0 1.02-.2 1.41-.59l7.78-7.78 2.81-2.81c.8-.78.8-2.07 0-2.86zM5.41 20L4 18.59l7.72-7.72 1.47 1.35L5.41 20z\"/>\n",
              "  </svg>\n",
              "      </button>\n",
              "      \n",
              "  <style>\n",
              "    .colab-df-container {\n",
              "      display:flex;\n",
              "      flex-wrap:wrap;\n",
              "      gap: 12px;\n",
              "    }\n",
              "\n",
              "    .colab-df-convert {\n",
              "      background-color: #E8F0FE;\n",
              "      border: none;\n",
              "      border-radius: 50%;\n",
              "      cursor: pointer;\n",
              "      display: none;\n",
              "      fill: #1967D2;\n",
              "      height: 32px;\n",
              "      padding: 0 0 0 0;\n",
              "      width: 32px;\n",
              "    }\n",
              "\n",
              "    .colab-df-convert:hover {\n",
              "      background-color: #E2EBFA;\n",
              "      box-shadow: 0px 1px 2px rgba(60, 64, 67, 0.3), 0px 1px 3px 1px rgba(60, 64, 67, 0.15);\n",
              "      fill: #174EA6;\n",
              "    }\n",
              "\n",
              "    [theme=dark] .colab-df-convert {\n",
              "      background-color: #3B4455;\n",
              "      fill: #D2E3FC;\n",
              "    }\n",
              "\n",
              "    [theme=dark] .colab-df-convert:hover {\n",
              "      background-color: #434B5C;\n",
              "      box-shadow: 0px 1px 3px 1px rgba(0, 0, 0, 0.15);\n",
              "      filter: drop-shadow(0px 1px 2px rgba(0, 0, 0, 0.3));\n",
              "      fill: #FFFFFF;\n",
              "    }\n",
              "  </style>\n",
              "\n",
              "      <script>\n",
              "        const buttonEl =\n",
              "          document.querySelector('#df-46a327c0-7560-4635-a9aa-3b69b5ccf414 button.colab-df-convert');\n",
              "        buttonEl.style.display =\n",
              "          google.colab.kernel.accessAllowed ? 'block' : 'none';\n",
              "\n",
              "        async function convertToInteractive(key) {\n",
              "          const element = document.querySelector('#df-46a327c0-7560-4635-a9aa-3b69b5ccf414');\n",
              "          const dataTable =\n",
              "            await google.colab.kernel.invokeFunction('convertToInteractive',\n",
              "                                                     [key], {});\n",
              "          if (!dataTable) return;\n",
              "\n",
              "          const docLinkHtml = 'Like what you see? Visit the ' +\n",
              "            '<a target=\"_blank\" href=https://colab.research.google.com/notebooks/data_table.ipynb>data table notebook</a>'\n",
              "            + ' to learn more about interactive tables.';\n",
              "          element.innerHTML = '';\n",
              "          dataTable['output_type'] = 'display_data';\n",
              "          await google.colab.output.renderOutput(dataTable, element);\n",
              "          const docLink = document.createElement('div');\n",
              "          docLink.innerHTML = docLinkHtml;\n",
              "          element.appendChild(docLink);\n",
              "        }\n",
              "      </script>\n",
              "    </div>\n",
              "  </div>\n",
              "  "
            ],
            "text/plain": [
              "                  date  radiation_avg  precip  wind_avg  wind_max  temp_avg  \\\n",
              "0     14/05/2014 00:00            159     0.0       1.4       3.3     14.27   \n",
              "1     15/05/2014 00:00            280     0.0       0.6       2.3     13.51   \n",
              "2     16/05/2014 00:00            186     3.4       0.8       2.7     15.65   \n",
              "3     17/05/2014 00:00            221     0.0       1.0       3.3     17.46   \n",
              "4     18/05/2014 00:00            255     0.0       2.1       5.5     16.85   \n",
              "...                ...            ...     ...       ...       ...       ...   \n",
              "2551  17/05/2021 00:00            196     1.4       2.2       5.5     10.51   \n",
              "2552  17/05/2021 00:00            173     2.8       1.8       5.5     10.80   \n",
              "2553  18/05/2021 00:00            311     0.0       1.4       5.0     10.29   \n",
              "2554  19/05/2021 00:00            232     6.6       1.8       5.5     11.39   \n",
              "2555  20/05/2021 00:00             44     0.0       0.5       2.7      6.35   \n",
              "\n",
              "      humidity_avg  \n",
              "0            64.95  \n",
              "1            72.91  \n",
              "2            74.69  \n",
              "3            71.42  \n",
              "4            74.45  \n",
              "...            ...  \n",
              "2551         99.86  \n",
              "2552         99.86  \n",
              "2553         92.94  \n",
              "2554         90.32  \n",
              "2555         99.86  \n",
              "\n",
              "[2556 rows x 7 columns]"
            ]
          },
          "metadata": {},
          "execution_count": 54
        }
      ],
      "source": [
        "df = pd.read_csv('https://raw.githubusercontent.com/albanda/CE888/master/lab8/weather.csv')\n",
        "df.drop(['temp_max', 'temp_min'], axis=1, inplace=True)\n",
        "df"
      ]
    },
    {
      "cell_type": "code",
      "execution_count": 55,
      "metadata": {
        "colab": {
          "base_uri": "https://localhost:8080/",
          "height": 279
        },
        "id": "nzsytNAh_a0N",
        "outputId": "832bc730-1f98-4eac-d2f6-d1e5ec519b97"
      },
      "outputs": [
        {
          "output_type": "display_data",
          "data": {
            "image/png": "[encoded data removed]",
            "text/plain": [
              "<Figure size 432x288 with 1 Axes>"
            ]
          },
          "metadata": {
            "needs_background": "light"
          }
        }
      ],
      "source": [
        "plt.plot(range(len(df)), df['temp_avg'])\n",
        "plt.xlabel('Temporal range')\n",
        "plt.ylabel('Average temperature (C) (7 years)')\n",
        "plt.savefig('temperature_over_time.pdf', bbox_inches='tight')"
      ]
    },
    {
      "cell_type": "code",
      "execution_count": 56,
      "metadata": {
        "colab": {
          "base_uri": "https://localhost:8080/",
          "height": 279
        },
        "id": "ysbM2n99_a0N",
        "outputId": "46c87885-8d10-412e-b6d6-3521ab727b26"
      },
      "outputs": [
        {
          "output_type": "display_data",
          "data": {
            "image/png": "[encoded data removed]",
            "text/plain": [
              "<Figure size 432x288 with 1 Axes>"
            ]
          },
          "metadata": {
            "needs_background": "light"
          }
        }
      ],
      "source": [
        "# Look at the first 2 years\n",
        "length = 2*365\n",
        "plt.plot(range(length), df['temp_avg'][:length])\n",
        "plt.xlabel('Temporal range')\n",
        "plt.ylabel('Average temperature (C) (2 years)')\n",
        "plt.savefig('temperature_over_time_2y.pdf', bbox_inches='tight')"
      ]
    },
    {
      "cell_type": "markdown",
      "metadata": {
        "id": "ikyqi2m7_a0O"
      },
      "source": [
        "We have clear periodicity every year. In the previous plot we saw 7 cycles (7 years). Here we see 2.\n",
        "\n",
        "Always look for periodicity in your timeseries. There will always be daily and yearly cycles. Check these patterns.\n",
        "\n",
        "Another issue with timeseries is dividing the dataset into train/validation/test sets. We definitely cannot shuffle the data, and we need to be very careful with data leakage (using data from the future)."
      ]
    },
    {
      "cell_type": "markdown",
      "metadata": {
        "id": "1fxuW2ne_a0P"
      },
      "source": [
        "## Data prep\n",
        "\n",
        "We'll try to predict the average temperature of tomorrow based on data from the past.\n",
        "\n",
        "To avoid data leakage, we're going to use a simple approach: use the first 50% of data for training, the next 30% for validation, and the final 20% for testing.\n"
      ]
    },
    {
      "cell_type": "code",
      "execution_count": 57,
      "metadata": {
        "colab": {
          "base_uri": "https://localhost:8080/"
        },
        "id": "vofGsYen_a0P",
        "outputId": "1d8fd532-a418-4dd1-ca9f-2969cb0ced40"
      },
      "outputs": [
        {
          "output_type": "stream",
          "name": "stdout",
          "text": [
            "Samples for training: 1278; validation: 766; test: 512\n"
          ]
        }
      ],
      "source": [
        "n_tr, n_val = int(0.5*len(df)), int(0.3*len(df))\n",
        "n_te = len(df) - n_tr - n_val\n",
        "print('Samples for training: %d; validation: %d; test: %d' % (n_tr, n_val, n_te))"
      ]
    },
    {
      "cell_type": "code",
      "execution_count": 58,
      "metadata": {
        "colab": {
          "base_uri": "https://localhost:8080/"
        },
        "id": "lsMDT2Jq_a0P",
        "outputId": "ff2388ee-e331-4999-ecd1-a99a1ec26338"
      },
      "outputs": [
        {
          "output_type": "stream",
          "name": "stdout",
          "text": [
            "(2556, 6)\n"
          ]
        }
      ],
      "source": [
        "# Get the data from the dataframe (dropping date column)\n",
        "data = df.iloc[:, 1:].values\n",
        "print(data.shape)\n",
        "assert data.shape[0] == len(df)\n",
        "assert data.shape[1] == len(df.columns)-1, \"Are you sure you're dropping the date?\"\n",
        "# We need to normalise our time series. Calculate mean and std from TRAINING DATA ONLY. \n",
        "# We'll use it on the validation and test sets.\n",
        "mean_tr = data[:n_tr, :].mean(axis=0)\n",
        "std_tr = data[:n_tr, :].std(axis=0)\n",
        "data = (data - mean_tr) / std_tr\n",
        "\n",
        "\n",
        "y = df['temp_avg'].values.reshape(-1, 1)\n",
        "\n",
        "# index of the column that contains the avg_temp\n",
        "y_idx = 4"
      ]
    },
    {
      "cell_type": "code",
      "execution_count": 59,
      "metadata": {
        "colab": {
          "base_uri": "https://localhost:8080/"
        },
        "id": "1VJAcdfICLi1",
        "outputId": "ecb686c1-20f9-4280-90f0-07033129d7bb"
      },
      "outputs": [
        {
          "output_type": "execute_result",
          "data": {
            "text/plain": [
              "array([14.27, 13.51, 15.65, 17.46, 16.85, 18.26, 17.35, 15.55, 14.52,\n",
              "       13.93, 11.48, 13.63, 12.81, 12.4 , 13.67, 14.15, 13.22, 12.21,\n",
              "       15.53, 14.52])"
            ]
          },
          "metadata": {},
          "execution_count": 59
        }
      ],
      "source": [
        "data[:20, y_idx] * std_tr[y_idx] + mean_tr[y_idx]"
      ]
    },
    {
      "cell_type": "code",
      "execution_count": 60,
      "metadata": {
        "colab": {
          "base_uri": "https://localhost:8080/"
        },
        "id": "xN-YJyEeCUv9",
        "outputId": "ae323638-3e1d-427b-cafd-dab39f910cac"
      },
      "outputs": [
        {
          "output_type": "execute_result",
          "data": {
            "text/plain": [
              "array([[18.26],\n",
              "       [17.35],\n",
              "       [15.55],\n",
              "       [14.52],\n",
              "       [13.93],\n",
              "       [11.48],\n",
              "       [13.63],\n",
              "       [12.81],\n",
              "       [12.4 ],\n",
              "       [13.67],\n",
              "       [14.15],\n",
              "       [13.22],\n",
              "       [12.21],\n",
              "       [15.53],\n",
              "       [14.52],\n",
              "       [15.35],\n",
              "       [12.29],\n",
              "       [13.88],\n",
              "       [15.13],\n",
              "       [17.29]])"
            ]
          },
          "metadata": {},
          "execution_count": 60
        }
      ],
      "source": [
        "y[5:25]"
      ]
    },
    {
      "cell_type": "code",
      "execution_count": 61,
      "metadata": {
        "id": "K_JGeiAs_a0Q"
      },
      "outputs": [],
      "source": [
        "# We'll use a Dataset from keras to pass our data\n",
        "sampling_rate = 1  # we keep all data points\n",
        "sequence_length = 14  # 2 weeks to predict tomorrow's temperature\n",
        "delay = sampling_rate * sequence_length  # the target is the day after the end of the sequence\n",
        "batch_size = 16"
      ]
    },
    {
      "cell_type": "code",
      "execution_count": 62,
      "metadata": {
        "colab": {
          "base_uri": "https://localhost:8080/"
        },
        "id": "cRDGWNYl_a0Q",
        "outputId": "4e39c33d-1eb4-4bd9-a62f-8c7801077cd0"
      },
      "outputs": [
        {
          "output_type": "stream",
          "name": "stdout",
          "text": [
            "X shape: (16, 14, 6)\n",
            "target shape: (16, 1)\n"
          ]
        }
      ],
      "source": [
        "train_dataset = keras.utils.timeseries_dataset_from_array(\n",
        "    data[:-delay],\n",
        "    targets=y[delay:],\n",
        "    sampling_rate=sampling_rate, sequence_length=sequence_length,\n",
        "    batch_size=batch_size,\n",
        "    start_index=0, end_index=n_tr  # first 50% for training\n",
        "    )\n",
        "\n",
        "val_dataset = keras.utils.timeseries_dataset_from_array(\n",
        "    data[:-delay],\n",
        "    targets=y[delay:],\n",
        "    sampling_rate=sampling_rate, sequence_length=sequence_length,\n",
        "    batch_size=batch_size,\n",
        "    start_index=n_tr, end_index=n_tr+n_val  # 50%-80% for validation\n",
        "    )\n",
        "\n",
        "test_dataset = keras.utils.timeseries_dataset_from_array(\n",
        "    data[:-delay],\n",
        "    targets=y[delay:],\n",
        "    sampling_rate=sampling_rate, sequence_length=sequence_length,\n",
        "    batch_size=batch_size,\n",
        "    start_index=n_tr+n_val  # last 20% for test\n",
        "    )\n",
        "\n",
        "for X, target in train_dataset:\n",
        "    print(\"X shape:\", X.shape)\n",
        "    print(\"target shape:\", target.shape)\n",
        "    #print(X[:, :, y_idx] * std_tr[y_idx] + mean_tr[y_idx])\n",
        "    #print(target)\n",
        "    break  # so we only print once"
      ]
    },
    {
      "cell_type": "code",
      "execution_count": 63,
      "metadata": {
        "id": "u_v2rAW_W4kQ"
      },
      "outputs": [],
      "source": [
        "# Function to plot history with neural networks\n",
        "def plot_hist_regression(hist, y):\n",
        "  n_ = len(hist.history['mae'])\n",
        "  plt.plot(range(1, n_+1), 100*np.asarray(hist.history['mae']), 'bo', label='MAE on training set')\n",
        "  plt.plot(range(1, n_+1), 100*np.asarray(hist.history['val_mae']), 'b', label='MAE on validation set')\n",
        "  plt.legend()\n",
        "  plt.xlabel(\"Epoch\") \n",
        "  plt.ylabel(\"MAE (degrees)\")\n",
        "  plt.ylim(0, 100)\n",
        "  plt.axhline(y=y)\n",
        "  plt.show()\n"
      ]
    },
    {
      "cell_type": "markdown",
      "metadata": {
        "id": "WlhjIvZR_a0Q"
      },
      "source": [
        "## Establishing a baseline\n"
      ]
    },
    {
      "cell_type": "markdown",
      "metadata": {
        "id": "rloJamyvWPWj"
      },
      "source": [
        "### Common sense, no ML baseline\n",
        "\n",
        "- Sanity check\n",
        "- To establish whether ML methods are actually any good\n",
        "\n",
        "Tomorrow's temperature is likely to be close to today's: let's predict that the temperature 24 hours from now will be equal to the temperature right now.\n",
        "\n",
        "We'll use the MAE as metric"
      ]
    },
    {
      "cell_type": "code",
      "execution_count": 64,
      "metadata": {
        "colab": {
          "base_uri": "https://localhost:8080/"
        },
        "id": "MUY5acIf_a0Q",
        "outputId": "763cdf68-d39d-4f71-8668-a8b5cc224fe5"
      },
      "outputs": [
        {
          "output_type": "stream",
          "name": "stdout",
          "text": [
            "MAE on train set = 2.56 (degrees Celsius)\n",
            "MAE on validation set = 2.69 (degrees Celsius)\n",
            "MAE on test set = 2.85 (degrees Celsius)\n"
          ]
        }
      ],
      "source": [
        "def naive_method(dataset, mean, std):\n",
        "    error = 0\n",
        "    samples = 0\n",
        "    count = 0\n",
        "    for X, target in dataset:\n",
        "        pred = X[:, -1, y_idx] * std + mean  # predict last available temperature and un-standardise\n",
        "        #print(X.shape, target.shape, pred.shape)  # [batch_size, sequence_length, n_feats]\n",
        "        #print(X[:, -1, y_idx] * std + mean, target)\n",
        "        error += np.sum(np.abs(pred - target))\n",
        "        samples += X.shape[0]  # batch_size\n",
        "        count += 1\n",
        "    return error / samples / batch_size # average\n",
        "\n",
        "\n",
        "print('MAE on train set = %.2f (degrees Celsius)' % naive_method(train_dataset, mean_tr[y_idx], std_tr[y_idx]))\n",
        "print('MAE on validation set = %.2f (degrees Celsius)' % naive_method(val_dataset, mean_tr[y_idx], std_tr[y_idx]))\n",
        "print('MAE on test set = %.2f (degrees Celsius)' % naive_method(test_dataset, mean_tr[y_idx], std_tr[y_idx]))\n",
        "# Save MAE on validation for later\n",
        "baseline = naive_method(val_dataset, mean_tr[y_idx], std_tr[y_idx])"
      ]
    },
    {
      "cell_type": "markdown",
      "metadata": {
        "id": "znycUtxiJmAF"
      },
      "source": [
        "This baseline achieves a validation MAE of 2.69 degrees and a test MAE of 2.85 degrees. So if we assume that tomorrow's temperature will be the same as today's, we'll be off by less than 3 degrees on average.\n",
        "\n",
        "Not too bad, but surely we can do better!"
      ]
    },
    {
      "cell_type": "markdown",
      "metadata": {
        "id": "7c-duA1Z_a0R"
      },
      "source": [
        "### Simple ML baseline\n",
        "\n",
        "\n"
      ]
    },
    {
      "cell_type": "code",
      "execution_count": 65,
      "metadata": {
        "colab": {
          "base_uri": "https://localhost:8080/"
        },
        "id": "fWGqpICHJlRe",
        "outputId": "b8fe2ffa-68b4-49b9-8721-2779568aef9f"
      },
      "outputs": [
        {
          "output_type": "stream",
          "name": "stdout",
          "text": [
            "Model: \"sequential_8\"\n",
            "_________________________________________________________________\n",
            " Layer (type)                Output Shape              Param #   \n",
            "=================================================================\n",
            " flatten_2 (Flatten)         (None, 84)                0         \n",
            "                                                                 \n",
            " dense_10 (Dense)            (None, 10)                850       \n",
            "                                                                 \n",
            " dense_11 (Dense)            (None, 1)                 11        \n",
            "                                                                 \n",
            "=================================================================\n",
            "Total params: 861\n",
            "Trainable params: 861\n",
            "Non-trainable params: 0\n",
            "_________________________________________________________________\n"
          ]
        }
      ],
      "source": [
        "# To get some practice with neural networks, we'll try a 1-layer NN with nothing fancy.\n",
        "\n",
        "model_dense = models.Sequential()\n",
        "model_dense.add(layers.Flatten(input_shape=(sequence_length, len(df.columns)-1)))  # we need to specify the input shape or we won't be able to see the summary\n",
        "model_dense.add(layers.Dense(10, activation='relu'))\n",
        "model_dense.add(layers.Dense(1))\n",
        "\n",
        "model_dense.summary()"
      ]
    },
    {
      "cell_type": "code",
      "execution_count": 66,
      "metadata": {
        "colab": {
          "base_uri": "https://localhost:8080/"
        },
        "id": "p0Hz1rX8LMfT",
        "outputId": "88002a0f-0ace-4310-c224-9cbbfcd5f117"
      },
      "outputs": [
        {
          "output_type": "stream",
          "name": "stdout",
          "text": [
            "Epoch 1/20\n",
            "80/80 [==============================] - 2s 13ms/step - loss: 154.0054 - mae: 11.4934 - val_loss: 135.9477 - val_mae: 10.7586\n",
            "Epoch 2/20\n",
            "80/80 [==============================] - 1s 13ms/step - loss: 123.1450 - mae: 10.2917 - val_loss: 108.4041 - val_mae: 9.5989\n",
            "Epoch 3/20\n",
            "80/80 [==============================] - 1s 12ms/step - loss: 95.1275 - mae: 9.0160 - val_loss: 84.0487 - val_mae: 8.3989\n",
            "Epoch 4/20\n",
            "80/80 [==============================] - 1s 16ms/step - loss: 71.0741 - mae: 7.6675 - val_loss: 63.8802 - val_mae: 7.1486\n",
            "Epoch 5/20\n",
            "80/80 [==============================] - 1s 12ms/step - loss: 52.8547 - mae: 6.3830 - val_loss: 49.2224 - val_mae: 6.0293\n",
            "Epoch 6/20\n",
            "80/80 [==============================] - 1s 18ms/step - loss: 41.6178 - mae: 5.4582 - val_loss: 40.2783 - val_mae: 5.3174\n",
            "Epoch 7/20\n",
            "80/80 [==============================] - 1s 14ms/step - loss: 35.7322 - mae: 4.9829 - val_loss: 35.2413 - val_mae: 4.8773\n",
            "Epoch 8/20\n",
            "80/80 [==============================] - 1s 11ms/step - loss: 32.2626 - mae: 4.7003 - val_loss: 32.3629 - val_mae: 4.6151\n",
            "Epoch 9/20\n",
            "80/80 [==============================] - 1s 15ms/step - loss: 29.9222 - mae: 4.5074 - val_loss: 30.6782 - val_mae: 4.4670\n",
            "Epoch 10/20\n",
            "80/80 [==============================] - 1s 12ms/step - loss: 28.2827 - mae: 4.3741 - val_loss: 29.5524 - val_mae: 4.3747\n",
            "Epoch 11/20\n",
            "80/80 [==============================] - 1s 11ms/step - loss: 26.9917 - mae: 4.2696 - val_loss: 28.6236 - val_mae: 4.2983\n",
            "Epoch 12/20\n",
            "80/80 [==============================] - 1s 12ms/step - loss: 25.8862 - mae: 4.1819 - val_loss: 27.7491 - val_mae: 4.2274\n",
            "Epoch 13/20\n",
            "80/80 [==============================] - 1s 11ms/step - loss: 24.8722 - mae: 4.0987 - val_loss: 26.8728 - val_mae: 4.1581\n",
            "Epoch 14/20\n",
            "80/80 [==============================] - 1s 10ms/step - loss: 23.9072 - mae: 4.0179 - val_loss: 25.9810 - val_mae: 4.0876\n",
            "Epoch 15/20\n",
            "80/80 [==============================] - 1s 7ms/step - loss: 22.9651 - mae: 3.9380 - val_loss: 25.0913 - val_mae: 4.0153\n",
            "Epoch 16/20\n",
            "80/80 [==============================] - 1s 7ms/step - loss: 22.0327 - mae: 3.8572 - val_loss: 24.1727 - val_mae: 3.9380\n",
            "Epoch 17/20\n",
            "80/80 [==============================] - 1s 6ms/step - loss: 21.1096 - mae: 3.7752 - val_loss: 23.2483 - val_mae: 3.8588\n",
            "Epoch 18/20\n",
            "80/80 [==============================] - 1s 9ms/step - loss: 20.1946 - mae: 3.6924 - val_loss: 22.3263 - val_mae: 3.7790\n",
            "Epoch 19/20\n",
            "80/80 [==============================] - 1s 8ms/step - loss: 19.2766 - mae: 3.6070 - val_loss: 21.3954 - val_mae: 3.6971\n",
            "Epoch 20/20\n",
            "80/80 [==============================] - 1s 8ms/step - loss: 18.3633 - mae: 3.5188 - val_loss: 20.4597 - val_mae: 3.6134\n"
          ]
        }
      ],
      "source": [
        "n_epochs = 20\n",
        "\n",
        "model_dense.compile(optimizer='rmsprop', loss='mse', metrics=['mae'])\n",
        "history_dense = model_dense.fit(train_dataset, epochs=n_epochs, validation_data=val_dataset)"
      ]
    },
    {
      "cell_type": "code",
      "execution_count": 67,
      "metadata": {
        "colab": {
          "base_uri": "https://localhost:8080/",
          "height": 283
        },
        "id": "aBRYn-AKMCi4",
        "outputId": "cef41516-613d-477a-c06c-93679d285074"
      },
      "outputs": [
        {
          "output_type": "display_data",
          "data": {
            "image/png": "[encoded data removed]",
            "text/plain": [
              "<Figure size 432x288 with 1 Axes>"
            ]
          },
          "metadata": {
            "needs_background": "light"
          }
        }
      ],
      "source": [
        "# Plot MAE cures for validation and training\n",
        "plot_hist_regression(history_dense, baseline)"
      ]
    },
    {
      "cell_type": "markdown",
      "metadata": {
        "id": "1EJywOA5NJa9"
      },
      "source": [
        "Validation loss is worse than what we had with our common-sense baseline, and we're already overfitting (MAE on training set is lower than on validation set). It turns out our previous baseline is not as easy to outperform as we thought!\n",
        "\n",
        "Remember our 'hypothesis space'? Using 2 Dense layers doesn't seem to be very useful in this case. We need other types of layers for this problem."
      ]
    },
    {
      "cell_type": "code",
      "execution_count": 68,
      "metadata": {
        "colab": {
          "base_uri": "https://localhost:8080/"
        },
        "id": "k6PADykQPIjq",
        "outputId": "68998df3-a678-47d2-c3a8-4eedbcee2879"
      },
      "outputs": [
        {
          "output_type": "stream",
          "name": "stdout",
          "text": [
            "Model: \"sequential_9\"\n",
            "_________________________________________________________________\n",
            " Layer (type)                Output Shape              Param #   \n",
            "=================================================================\n",
            " conv1d_2 (Conv1D)           (None, 8, 8)              344       \n",
            "                                                                 \n",
            " max_pooling1d_2 (MaxPooling  (None, 4, 8)             0         \n",
            " 1D)                                                             \n",
            "                                                                 \n",
            " conv1d_3 (Conv1D)           (None, 2, 8)              200       \n",
            "                                                                 \n",
            " max_pooling1d_3 (MaxPooling  (None, 1, 8)             0         \n",
            " 1D)                                                             \n",
            "                                                                 \n",
            " global_average_pooling1d_1   (None, 8)                0         \n",
            " (GlobalAveragePooling1D)                                        \n",
            "                                                                 \n",
            " dense_12 (Dense)            (None, 1)                 9         \n",
            "                                                                 \n",
            "=================================================================\n",
            "Total params: 553\n",
            "Trainable params: 553\n",
            "Non-trainable params: 0\n",
            "_________________________________________________________________\n"
          ]
        }
      ],
      "source": [
        "# We know that CNNs take advantage of neighbouring values, so why don't we try that?\n",
        "\n",
        "# In addition to the Conv2D layers we saw last week, there are Conv1D and Conv3D layers. \n",
        "# Conv1D layers rely on 1D windows that slide across an input sequence (imagine a 1D image)\n",
        "\n",
        "model_cnn = models.Sequential()\n",
        "model_cnn.add(layers.Conv1D(8, 7, activation='relu', input_shape=(sequence_length, len(df.columns)-1)))\n",
        "model_cnn.add(layers.MaxPooling1D(2))\n",
        "model_cnn.add(layers.Conv1D(8, 3, activation='relu'))\n",
        "model_cnn.add(layers.MaxPooling1D(2))\n",
        "model_cnn.add(layers.GlobalAveragePooling1D())\n",
        "model_cnn.add(layers.Dense(1))\n",
        "\n",
        "model_cnn.summary()"
      ]
    },
    {
      "cell_type": "code",
      "execution_count": 69,
      "metadata": {
        "colab": {
          "base_uri": "https://localhost:8080/"
        },
        "id": "PSGRJSulQs22",
        "outputId": "8a619c8f-703f-47c3-aa5e-38e7aeff744c"
      },
      "outputs": [
        {
          "output_type": "stream",
          "name": "stdout",
          "text": [
            "Epoch 1/20\n",
            "80/80 [==============================] - 2s 11ms/step - loss: 154.5847 - mae: 11.1125 - val_loss: 134.1183 - val_mae: 10.0074\n",
            "Epoch 2/20\n",
            "80/80 [==============================] - 1s 8ms/step - loss: 128.9262 - mae: 9.9341 - val_loss: 112.8226 - val_mae: 8.9323\n",
            "Epoch 3/20\n",
            "80/80 [==============================] - 1s 7ms/step - loss: 100.6977 - mae: 8.6541 - val_loss: 83.6773 - val_mae: 7.5847\n",
            "Epoch 4/20\n",
            "80/80 [==============================] - 1s 7ms/step - loss: 64.4343 - mae: 6.8876 - val_loss: 49.1643 - val_mae: 5.8119\n",
            "Epoch 5/20\n",
            "80/80 [==============================] - 1s 8ms/step - loss: 31.4547 - mae: 4.7403 - val_loss: 24.1741 - val_mae: 3.8918\n",
            "Epoch 6/20\n",
            "80/80 [==============================] - 1s 8ms/step - loss: 19.2596 - mae: 3.6051 - val_loss: 19.7547 - val_mae: 3.4025\n",
            "Epoch 7/20\n",
            "80/80 [==============================] - 1s 7ms/step - loss: 17.4761 - mae: 3.4182 - val_loss: 18.7156 - val_mae: 3.2643\n",
            "Epoch 8/20\n",
            "80/80 [==============================] - 1s 7ms/step - loss: 16.1961 - mae: 3.2781 - val_loss: 17.7570 - val_mae: 3.1508\n",
            "Epoch 9/20\n",
            "80/80 [==============================] - 1s 9ms/step - loss: 15.1061 - mae: 3.1552 - val_loss: 16.7926 - val_mae: 3.0529\n",
            "Epoch 10/20\n",
            "80/80 [==============================] - 1s 10ms/step - loss: 14.1725 - mae: 3.0482 - val_loss: 15.9211 - val_mae: 2.9703\n",
            "Epoch 11/20\n",
            "80/80 [==============================] - 1s 9ms/step - loss: 13.3466 - mae: 2.9534 - val_loss: 15.2114 - val_mae: 2.9021\n",
            "Epoch 12/20\n",
            "80/80 [==============================] - 1s 10ms/step - loss: 12.6225 - mae: 2.8680 - val_loss: 14.5966 - val_mae: 2.8483\n",
            "Epoch 13/20\n",
            "80/80 [==============================] - 1s 10ms/step - loss: 12.0210 - mae: 2.7949 - val_loss: 14.1244 - val_mae: 2.8078\n",
            "Epoch 14/20\n",
            "80/80 [==============================] - 1s 9ms/step - loss: 11.4991 - mae: 2.7297 - val_loss: 13.7757 - val_mae: 2.7804\n",
            "Epoch 15/20\n",
            "80/80 [==============================] - 1s 9ms/step - loss: 11.0626 - mae: 2.6725 - val_loss: 13.5025 - val_mae: 2.7605\n",
            "Epoch 16/20\n",
            "80/80 [==============================] - 1s 9ms/step - loss: 10.6998 - mae: 2.6248 - val_loss: 13.2880 - val_mae: 2.7463\n",
            "Epoch 17/20\n",
            "80/80 [==============================] - 1s 8ms/step - loss: 10.3889 - mae: 2.5828 - val_loss: 13.1160 - val_mae: 2.7327\n",
            "Epoch 18/20\n",
            "80/80 [==============================] - 1s 10ms/step - loss: 10.1194 - mae: 2.5462 - val_loss: 12.9403 - val_mae: 2.7219\n",
            "Epoch 19/20\n",
            "80/80 [==============================] - 1s 7ms/step - loss: 9.8750 - mae: 2.5131 - val_loss: 12.7952 - val_mae: 2.7131\n",
            "Epoch 20/20\n",
            "80/80 [==============================] - 1s 9ms/step - loss: 9.6615 - mae: 2.4857 - val_loss: 12.6963 - val_mae: 2.7071\n"
          ]
        }
      ],
      "source": [
        "model_cnn.compile(optimizer='rmsprop', loss='mse', metrics=['mae'])\n",
        "history_cnn = model_cnn.fit(train_dataset, epochs=n_epochs,\n",
        "                            validation_data=val_dataset)"
      ]
    },
    {
      "cell_type": "code",
      "execution_count": 70,
      "metadata": {
        "colab": {
          "base_uri": "https://localhost:8080/",
          "height": 283
        },
        "id": "6bB6lzLYSG-u",
        "outputId": "7149e7b4-1b4d-4757-c168-277e887e1642"
      },
      "outputs": [
        {
          "output_type": "display_data",
          "data": {
            "image/png": "[encoded data removed]",
            "text/plain": [
              "<Figure size 432x288 with 1 Axes>"
            ]
          },
          "metadata": {
            "needs_background": "light"
          }
        }
      ],
      "source": [
        "# Plot MAE cures for validation and training\n",
        "plot_hist_regression(history_cnn, baseline)"
      ]
    },
    {
      "cell_type": "markdown",
      "metadata": {
        "id": "Kc2iMPSHViL1"
      },
      "source": [
        "This model isn't any better, with a validation MAE of 2.77 degrees (also worse than the 'common-sense approach' that we tried at first), and we're overfitting a bit too.\n",
        "\n",
        "Why?\n",
        "\n",
        "In timeseries, order matters a lot: the recent past is more informative than data from 5 days ago, and convolutional layers don't take advantage of this fact -- max pooling and global average pooling layers actually destroy this order information."
      ]
    },
    {
      "cell_type": "markdown",
      "metadata": {
        "id": "3ozUAZX__a0R"
      },
      "source": [
        "## Long Short Term Memory (LSTM) Neural Networks\n",
        "\n",
        "\n"
      ]
    },
    {
      "cell_type": "code",
      "execution_count": 71,
      "metadata": {
        "colab": {
          "base_uri": "https://localhost:8080/"
        },
        "id": "2dWfiaUw_a0R",
        "outputId": "10cbec33-0034-4ad5-81ae-f52f69de8a6b"
      },
      "outputs": [
        {
          "output_type": "stream",
          "name": "stdout",
          "text": [
            "Model: \"sequential_10\"\n",
            "_________________________________________________________________\n",
            " Layer (type)                Output Shape              Param #   \n",
            "=================================================================\n",
            " lstm_5 (LSTM)               (None, 20)                2160      \n",
            "                                                                 \n",
            " dense_13 (Dense)            (None, 1)                 21        \n",
            "                                                                 \n",
            "=================================================================\n",
            "Total params: 2,181\n",
            "Trainable params: 2,181\n",
            "Non-trainable params: 0\n",
            "_________________________________________________________________\n"
          ]
        }
      ],
      "source": [
        "# 1-layer LSTM\n",
        "\n",
        "model_lstm1 = models.Sequential()\n",
        "model_lstm1.add(layers.LSTM(20, input_shape=(sequence_length, len(df.columns)-1)))\n",
        "model_lstm1.add(layers.Dense(1))\n",
        "\n",
        "model_lstm1.summary()"
      ]
    },
    {
      "cell_type": "code",
      "execution_count": 72,
      "metadata": {
        "id": "DMst2Mp0R0Xi"
      },
      "outputs": [],
      "source": [
        "n_epochs = 20"
      ]
    },
    {
      "cell_type": "code",
      "execution_count": 73,
      "metadata": {
        "colab": {
          "base_uri": "https://localhost:8080/"
        },
        "id": "Pff2tZQHXb-z",
        "outputId": "1a00506c-a821-4fac-990a-c36017e8a488"
      },
      "outputs": [
        {
          "output_type": "stream",
          "name": "stdout",
          "text": [
            "Epoch 1/20\n",
            "80/80 [==============================] - 4s 19ms/step - loss: 136.6365 - mae: 10.5294 - val_loss: 115.3074 - val_mae: 9.5655\n",
            "Epoch 2/20\n",
            "80/80 [==============================] - 1s 12ms/step - loss: 82.5964 - mae: 7.8478 - val_loss: 56.7428 - val_mae: 6.0114\n",
            "Epoch 3/20\n",
            "80/80 [==============================] - 1s 13ms/step - loss: 46.4468 - mae: 5.6118 - val_loss: 39.2416 - val_mae: 4.9183\n",
            "Epoch 4/20\n",
            "80/80 [==============================] - 1s 12ms/step - loss: 33.7318 - mae: 4.7491 - val_loss: 30.9285 - val_mae: 4.3898\n",
            "Epoch 5/20\n",
            "80/80 [==============================] - 1s 13ms/step - loss: 26.4130 - mae: 4.1915 - val_loss: 25.3882 - val_mae: 4.0023\n",
            "Epoch 6/20\n",
            "80/80 [==============================] - 1s 12ms/step - loss: 21.4170 - mae: 3.7553 - val_loss: 21.3672 - val_mae: 3.6877\n",
            "Epoch 7/20\n",
            "80/80 [==============================] - 1s 13ms/step - loss: 17.7303 - mae: 3.4050 - val_loss: 18.1973 - val_mae: 3.4021\n",
            "Epoch 8/20\n",
            "80/80 [==============================] - 1s 14ms/step - loss: 14.9523 - mae: 3.1187 - val_loss: 15.7380 - val_mae: 3.1628\n",
            "Epoch 9/20\n",
            "80/80 [==============================] - 1s 13ms/step - loss: 12.7966 - mae: 2.8764 - val_loss: 13.8123 - val_mae: 2.9639\n",
            "Epoch 10/20\n",
            "80/80 [==============================] - 1s 14ms/step - loss: 11.0641 - mae: 2.6709 - val_loss: 12.3248 - val_mae: 2.8014\n",
            "Epoch 11/20\n",
            "80/80 [==============================] - 1s 14ms/step - loss: 9.7052 - mae: 2.4973 - val_loss: 11.1542 - val_mae: 2.6652\n",
            "Epoch 12/20\n",
            "80/80 [==============================] - 1s 14ms/step - loss: 8.6336 - mae: 2.3512 - val_loss: 10.2367 - val_mae: 2.5575\n",
            "Epoch 13/20\n",
            "80/80 [==============================] - 1s 14ms/step - loss: 7.8182 - mae: 2.2385 - val_loss: 9.5358 - val_mae: 2.4765\n",
            "Epoch 14/20\n",
            "80/80 [==============================] - 1s 14ms/step - loss: 7.2060 - mae: 2.1510 - val_loss: 9.0049 - val_mae: 2.4142\n",
            "Epoch 15/20\n",
            "80/80 [==============================] - 1s 13ms/step - loss: 6.7618 - mae: 2.0851 - val_loss: 8.5896 - val_mae: 2.3663\n",
            "Epoch 16/20\n",
            "80/80 [==============================] - 1s 14ms/step - loss: 6.4305 - mae: 2.0338 - val_loss: 8.2382 - val_mae: 2.3211\n",
            "Epoch 17/20\n",
            "80/80 [==============================] - 1s 13ms/step - loss: 6.1562 - mae: 1.9923 - val_loss: 7.8778 - val_mae: 2.2684\n",
            "Epoch 18/20\n",
            "80/80 [==============================] - 1s 12ms/step - loss: 5.9511 - mae: 1.9554 - val_loss: 7.6008 - val_mae: 2.2281\n",
            "Epoch 19/20\n",
            "80/80 [==============================] - 1s 12ms/step - loss: 5.7177 - mae: 1.9208 - val_loss: 7.3126 - val_mae: 2.1811\n",
            "Epoch 20/20\n",
            "80/80 [==============================] - 1s 13ms/step - loss: 5.5573 - mae: 1.8885 - val_loss: 7.1077 - val_mae: 2.1472\n"
          ]
        }
      ],
      "source": [
        "model_lstm1.compile(optimizer='rmsprop', loss='mse', metrics=['mae'])\n",
        "history_lstm1 = model_lstm1.fit(train_dataset, epochs=n_epochs,\n",
        "                            validation_data=val_dataset)"
      ]
    },
    {
      "cell_type": "code",
      "execution_count": 74,
      "metadata": {
        "colab": {
          "base_uri": "https://localhost:8080/",
          "height": 283
        },
        "id": "hr-bgDUvXmvS",
        "outputId": "69cd5068-8944-489a-a2e2-1d775c33463c"
      },
      "outputs": [
        {
          "output_type": "display_data",
          "data": {
            "image/png": "[encoded data removed]",
            "text/plain": [
              "<Figure size 432x288 with 1 Axes>"
            ]
          },
          "metadata": {
            "needs_background": "light"
          }
        }
      ],
      "source": [
        "# Plot MAE cures for validation and training\n",
        "plot_hist_regression(history_lstm1, baseline)\n"
      ]
    },
    {
      "cell_type": "code",
      "execution_count": 75,
      "metadata": {
        "colab": {
          "base_uri": "https://localhost:8080/"
        },
        "id": "0fFZvXXUcQ67",
        "outputId": "a51be68c-f16e-49da-fe78-43eb0af00186"
      },
      "outputs": [
        {
          "output_type": "stream",
          "name": "stdout",
          "text": [
            "31/31 [==============================] - 0s 5ms/step - loss: 8.1487 - mae: 2.2551\n",
            "Test MAE = 2.26 degrees\n"
          ]
        }
      ],
      "source": [
        "print('Test MAE = %.2f degrees' % model_lstm1.evaluate(test_dataset)[1])"
      ]
    },
    {
      "cell_type": "markdown",
      "metadata": {
        "id": "bYSWwI1aXvwL"
      },
      "source": [
        "Success! We finally beat the common-sense baseline! The validation MAE now is 2.12 degrees, and the test MAE is 2.27.\n",
        "\n",
        "Why do LSTM layers work? Let's go back to the slides"
      ]
    },
    {
      "cell_type": "code",
      "execution_count": 76,
      "metadata": {
        "colab": {
          "base_uri": "https://localhost:8080/"
        },
        "id": "acSYakeOcokB",
        "outputId": "3a6a59e6-1934-4d9c-ca05-d01a5e28bed2"
      },
      "outputs": [
        {
          "output_type": "stream",
          "name": "stdout",
          "text": [
            "Model: \"sequential_11\"\n",
            "_________________________________________________________________\n",
            " Layer (type)                Output Shape              Param #   \n",
            "=================================================================\n",
            " lstm_6 (LSTM)               (None, 20)                2160      \n",
            "                                                                 \n",
            " dropout_5 (Dropout)         (None, 20)                0         \n",
            "                                                                 \n",
            " dense_14 (Dense)            (None, 1)                 21        \n",
            "                                                                 \n",
            "=================================================================\n",
            "Total params: 2,181\n",
            "Trainable params: 2,181\n",
            "Non-trainable params: 0\n",
            "_________________________________________________________________\n"
          ]
        }
      ],
      "source": [
        "# Adding dropout\n",
        "\n",
        "model_lstm2 = models.Sequential()\n",
        "model_lstm2.add(layers.LSTM(20, input_shape=(sequence_length, len(df.columns)-1), recurrent_dropout=0.25))\n",
        "model_lstm2.add(layers.Dropout(0.4))\n",
        "model_lstm2.add(layers.Dense(1))\n",
        "\n",
        "model_lstm2.summary()"
      ]
    },
    {
      "cell_type": "code",
      "execution_count": 77,
      "metadata": {
        "colab": {
          "base_uri": "https://localhost:8080/"
        },
        "id": "LvRnf9TWSWf9",
        "outputId": "a9377ef3-c936-46ae-c73f-f6c0a06e59e1"
      },
      "outputs": [
        {
          "output_type": "stream",
          "name": "stdout",
          "text": [
            "Epoch 1/20\n",
            "80/80 [==============================] - 4s 23ms/step - loss: 140.2253 - mae: 10.6030 - val_loss: 123.1197 - val_mae: 9.7611\n",
            "Epoch 2/20\n",
            "80/80 [==============================] - 1s 18ms/step - loss: 91.8141 - mae: 8.3763 - val_loss: 62.0338 - val_mae: 6.5433\n",
            "Epoch 3/20\n",
            "80/80 [==============================] - 1s 17ms/step - loss: 48.7544 - mae: 5.7864 - val_loss: 38.5696 - val_mae: 4.8642\n",
            "Epoch 4/20\n",
            "80/80 [==============================] - 1s 18ms/step - loss: 35.2127 - mae: 4.8547 - val_loss: 30.1257 - val_mae: 4.3123\n",
            "Epoch 5/20\n",
            "80/80 [==============================] - 1s 18ms/step - loss: 29.3954 - mae: 4.4066 - val_loss: 24.9481 - val_mae: 3.9515\n",
            "Epoch 6/20\n",
            "80/80 [==============================] - 1s 18ms/step - loss: 24.7127 - mae: 3.9933 - val_loss: 21.3104 - val_mae: 3.6707\n",
            "Epoch 7/20\n",
            "80/80 [==============================] - 2s 19ms/step - loss: 21.8179 - mae: 3.7599 - val_loss: 18.3293 - val_mae: 3.4044\n",
            "Epoch 8/20\n",
            "80/80 [==============================] - 2s 19ms/step - loss: 19.0829 - mae: 3.5091 - val_loss: 15.8443 - val_mae: 3.1461\n",
            "Epoch 9/20\n",
            "80/80 [==============================] - 1s 18ms/step - loss: 17.5982 - mae: 3.3062 - val_loss: 14.0185 - val_mae: 2.9652\n",
            "Epoch 10/20\n",
            "80/80 [==============================] - 1s 18ms/step - loss: 16.0968 - mae: 3.2089 - val_loss: 12.9204 - val_mae: 2.8548\n",
            "Epoch 11/20\n",
            "80/80 [==============================] - 1s 18ms/step - loss: 14.5790 - mae: 3.0059 - val_loss: 11.9081 - val_mae: 2.7541\n",
            "Epoch 12/20\n",
            "80/80 [==============================] - 2s 19ms/step - loss: 13.3655 - mae: 2.8811 - val_loss: 10.7095 - val_mae: 2.6093\n",
            "Epoch 13/20\n",
            "80/80 [==============================] - 2s 19ms/step - loss: 13.4009 - mae: 2.9220 - val_loss: 9.6314 - val_mae: 2.4618\n",
            "Epoch 14/20\n",
            "80/80 [==============================] - 2s 19ms/step - loss: 12.3884 - mae: 2.8055 - val_loss: 9.2729 - val_mae: 2.4271\n",
            "Epoch 15/20\n",
            "80/80 [==============================] - 2s 20ms/step - loss: 12.5387 - mae: 2.8263 - val_loss: 8.9742 - val_mae: 2.3999\n",
            "Epoch 16/20\n",
            "80/80 [==============================] - 2s 19ms/step - loss: 12.2220 - mae: 2.7765 - val_loss: 8.3790 - val_mae: 2.3127\n",
            "Epoch 17/20\n",
            "80/80 [==============================] - 1s 18ms/step - loss: 11.3839 - mae: 2.6462 - val_loss: 7.8514 - val_mae: 2.2395\n",
            "Epoch 18/20\n",
            "80/80 [==============================] - 2s 19ms/step - loss: 11.3812 - mae: 2.6618 - val_loss: 7.6345 - val_mae: 2.2163\n",
            "Epoch 19/20\n",
            "80/80 [==============================] - 2s 20ms/step - loss: 10.5853 - mae: 2.5777 - val_loss: 7.3990 - val_mae: 2.1839\n",
            "Epoch 20/20\n",
            "80/80 [==============================] - 2s 23ms/step - loss: 10.8033 - mae: 2.5910 - val_loss: 7.4218 - val_mae: 2.1949\n"
          ]
        }
      ],
      "source": [
        "model_lstm2.compile(optimizer='rmsprop', loss='mse', metrics=['mae'])\n",
        "history_lstm2 = model_lstm2.fit(train_dataset, epochs=n_epochs,\n",
        "                            validation_data=val_dataset)"
      ]
    },
    {
      "cell_type": "code",
      "execution_count": 78,
      "metadata": {
        "colab": {
          "base_uri": "https://localhost:8080/",
          "height": 283
        },
        "id": "cWpm-j9iSck1",
        "outputId": "45bb15bb-2be4-48ca-ed2d-16ec155c3d45"
      },
      "outputs": [
        {
          "output_type": "display_data",
          "data": {
            "image/png": "[encoded data removed]",
            "text/plain": [
              "<Figure size 432x288 with 1 Axes>"
            ]
          },
          "metadata": {
            "needs_background": "light"
          }
        }
      ],
      "source": [
        "# Plot MAE cures for validation and training\n",
        "plot_hist_regression(history_lstm2, baseline)"
      ]
    },
    {
      "cell_type": "code",
      "execution_count": 79,
      "metadata": {
        "colab": {
          "base_uri": "https://localhost:8080/"
        },
        "id": "rAIQrQDVSmSM",
        "outputId": "0df42b37-a146-4286-931e-bf40c0cad28a"
      },
      "outputs": [
        {
          "output_type": "stream",
          "name": "stdout",
          "text": [
            "31/31 [==============================] - 0s 5ms/step - loss: 8.2880 - mae: 2.2678\n",
            "Test MAE = 2.27 degrees\n"
          ]
        }
      ],
      "source": [
        "print('Test MAE = %.2f degrees' % model_lstm2.evaluate(test_dataset)[1])"
      ]
    },
    {
      "cell_type": "markdown",
      "metadata": {
        "id": "H3OrpvE3S4gM"
      },
      "source": [
        "Note that validation set MAE is now lower than MAE on training set -- no longer overfitting. Validation MAE is 2.16 and test MAE is also 2.16.\n",
        "\n",
        "NOTE: This is a very simple dataset with very small differences in performance between different models.  You'll just have to take my word for it that *in general* this approach works. "
      ]
    },
    {
      "cell_type": "code",
      "execution_count": 80,
      "metadata": {
        "colab": {
          "base_uri": "https://localhost:8080/"
        },
        "id": "jq_ZDTttTX6_",
        "outputId": "2533c0ad-f529-4cf3-c392-4da2fd97a8cd"
      },
      "outputs": [
        {
          "output_type": "stream",
          "name": "stdout",
          "text": [
            "Model: \"sequential_12\"\n",
            "_________________________________________________________________\n",
            " Layer (type)                Output Shape              Param #   \n",
            "=================================================================\n",
            " lstm_7 (LSTM)               (None, 14, 20)            2160      \n",
            "                                                                 \n",
            " lstm_8 (LSTM)               (None, 20)                3280      \n",
            "                                                                 \n",
            " dropout_6 (Dropout)         (None, 20)                0         \n",
            "                                                                 \n",
            " dense_15 (Dense)            (None, 1)                 21        \n",
            "                                                                 \n",
            "=================================================================\n",
            "Total params: 5,461\n",
            "Trainable params: 5,461\n",
            "Non-trainable params: 0\n",
            "_________________________________________________________________\n"
          ]
        }
      ],
      "source": [
        "# Performance in the previous figure can (maybe) still be improved\n",
        "# Let's try to add some more layers -- we can do this now that we're no longer overfitting\n",
        "\n",
        "model_lstm3 = models.Sequential()\n",
        "model_lstm3.add(layers.LSTM(20, input_shape=(sequence_length, len(df.columns)-1), recurrent_dropout=0.25, return_sequences=True))  # NEW!\n",
        "model_lstm3.add(layers.LSTM(20, input_shape=(sequence_length, len(df.columns)-1), recurrent_dropout=0.25))  # NEW!!\n",
        "model_lstm3.add(layers.Dropout(0.4))\n",
        "model_lstm3.add(layers.Dense(1))\n",
        "model_lstm3.summary()"
      ]
    },
    {
      "cell_type": "code",
      "execution_count": 81,
      "metadata": {
        "colab": {
          "base_uri": "https://localhost:8080/"
        },
        "id": "9xQXChtNUxzh",
        "outputId": "f42f3c30-40cd-4173-9975-b6d00efca26a"
      },
      "outputs": [
        {
          "output_type": "stream",
          "name": "stdout",
          "text": [
            "Epoch 1/60\n",
            "80/80 [==============================] - 9s 36ms/step - loss: 120.7834 - mae: 9.8579 - val_loss: 76.6708 - val_mae: 7.3691\n",
            "Epoch 2/60\n",
            "80/80 [==============================] - 2s 30ms/step - loss: 60.5464 - mae: 6.4972 - val_loss: 47.2739 - val_mae: 5.4251\n",
            "Epoch 3/60\n",
            "80/80 [==============================] - 2s 30ms/step - loss: 43.5992 - mae: 5.4049 - val_loss: 40.0820 - val_mae: 5.0859\n",
            "Epoch 4/60\n",
            "80/80 [==============================] - 4s 46ms/step - loss: 37.6695 - mae: 4.9960 - val_loss: 32.1856 - val_mae: 4.5040\n",
            "Epoch 5/60\n",
            "80/80 [==============================] - 2s 30ms/step - loss: 31.3815 - mae: 4.5255 - val_loss: 27.2521 - val_mae: 4.1683\n",
            "Epoch 6/60\n",
            "80/80 [==============================] - 2s 30ms/step - loss: 26.3970 - mae: 4.1447 - val_loss: 22.6490 - val_mae: 3.7828\n",
            "Epoch 7/60\n",
            "80/80 [==============================] - 2s 31ms/step - loss: 22.6757 - mae: 3.7779 - val_loss: 20.7210 - val_mae: 3.6758\n",
            "Epoch 8/60\n",
            "80/80 [==============================] - 2s 30ms/step - loss: 19.9619 - mae: 3.5981 - val_loss: 18.3083 - val_mae: 3.4520\n",
            "Epoch 9/60\n",
            "80/80 [==============================] - 3s 36ms/step - loss: 17.7713 - mae: 3.3729 - val_loss: 16.5267 - val_mae: 3.2794\n",
            "Epoch 10/60\n",
            "80/80 [==============================] - 2s 30ms/step - loss: 15.6257 - mae: 3.1547 - val_loss: 13.6350 - val_mae: 2.9479\n",
            "Epoch 11/60\n",
            "80/80 [==============================] - 2s 30ms/step - loss: 15.5228 - mae: 3.1107 - val_loss: 13.4201 - val_mae: 2.9531\n",
            "Epoch 12/60\n",
            "80/80 [==============================] - 3s 34ms/step - loss: 13.6121 - mae: 2.9454 - val_loss: 11.9610 - val_mae: 2.7894\n",
            "Epoch 13/60\n",
            "80/80 [==============================] - 2s 29ms/step - loss: 12.4857 - mae: 2.7905 - val_loss: 11.3012 - val_mae: 2.7150\n",
            "Epoch 14/60\n",
            "80/80 [==============================] - 2s 31ms/step - loss: 12.1067 - mae: 2.7937 - val_loss: 10.7440 - val_mae: 2.6519\n",
            "Epoch 15/60\n",
            "80/80 [==============================] - 2s 30ms/step - loss: 11.7569 - mae: 2.7092 - val_loss: 9.5050 - val_mae: 2.4862\n",
            "Epoch 16/60\n",
            "80/80 [==============================] - 2s 30ms/step - loss: 11.8350 - mae: 2.7979 - val_loss: 9.5823 - val_mae: 2.5031\n",
            "Epoch 17/60\n",
            "80/80 [==============================] - 2s 29ms/step - loss: 11.4471 - mae: 2.6899 - val_loss: 8.6854 - val_mae: 2.3783\n",
            "Epoch 18/60\n",
            "80/80 [==============================] - 2s 30ms/step - loss: 10.7675 - mae: 2.6036 - val_loss: 9.0924 - val_mae: 2.4428\n",
            "Epoch 19/60\n",
            "80/80 [==============================] - 2s 30ms/step - loss: 11.2051 - mae: 2.6651 - val_loss: 8.9930 - val_mae: 2.4295\n"
          ]
        }
      ],
      "source": [
        "model_lstm3.compile(optimizer='rmsprop', loss='mse', metrics=['mae'])\n",
        "\n",
        "callbacks = [EarlyStopping(monitor='val_mae', patience=2)]\n",
        "\n",
        "history_lstm3 = model_lstm3.fit(train_dataset, epochs=60,  # increased number of epochs\n",
        "                            validation_data=val_dataset,\n",
        "                            callbacks=callbacks)  # but added early stopping callback\n"
      ]
    },
    {
      "cell_type": "code",
      "execution_count": 82,
      "metadata": {
        "colab": {
          "base_uri": "https://localhost:8080/",
          "height": 318
        },
        "id": "PtFfB3YaU4k3",
        "outputId": "de9a5f3f-b1ae-4e7a-86d0-697fdd60c534"
      },
      "outputs": [
        {
          "output_type": "display_data",
          "data": {
            "image/png": "[encoded data removed]",
            "text/plain": [
              "<Figure size 432x288 with 1 Axes>"
            ]
          },
          "metadata": {
            "needs_background": "light"
          }
        },
        {
          "output_type": "stream",
          "name": "stdout",
          "text": [
            "31/31 [==============================] - 0s 8ms/step - loss: 9.4870 - mae: 2.4037\n",
            "Test MAE = 2.40 degrees\n"
          ]
        }
      ],
      "source": [
        "# Plot MAE cures for validation and training\n",
        "plot_hist_regression(history_lstm3, baseline)\n",
        "print('Test MAE = %.2f degrees' % model_lstm3.evaluate(test_dataset)[1])"
      ]
    },
    {
      "cell_type": "markdown",
      "metadata": {
        "id": "eUJqRqp1XJnL"
      },
      "source": [
        "Validation MAE = 1.92 degrees\n",
        "\n",
        "Test MAE = 1.89 degrees\n"
      ]
    },
    {
      "cell_type": "markdown",
      "metadata": {
        "id": "zGEuNqw2csXj"
      },
      "source": [
        "# Text"
      ]
    },
    {
      "cell_type": "markdown",
      "metadata": {
        "id": "dtv0EjsTbwvm"
      },
      "source": [
        "## Data prep\n",
        "\n",
        "We'll try to predict whether the review for a movie is positive or negative looking only at the text of the review.\n",
        "\n",
        "We'll use the IMDB text dataset for this task, which is available on `keras.datasets` and described [here](https://keras.io/api/datasets/imdb/). \n",
        "\n",
        "We'll merge the training and test sets and use 60% for training, 20% for validation, and 20% for testing.\n",
        "\n",
        "\n",
        "As this is a binary classificationp problem, we'll use the binary cross entropy loss function. We will keep track of accuracy when training and evaluating the model.\n"
      ]
    },
    {
      "cell_type": "code",
      "execution_count": 83,
      "metadata": {
        "id": "i-mH-8IGwGo1"
      },
      "outputs": [],
      "source": [
        "def plot_hist_classif(hist):\n",
        "  n_ = len(hist.history['accuracy'])\n",
        "  plt.plot(range(1, n_+1), 100*np.asarray(hist.history['accuracy']), 'bo', label='Accuracy on training set')\n",
        "  plt.plot(range(1, n_+1), 100*np.asarray(hist.history['val_accuracy']), 'b', label='Accuracy on validation set')\n",
        "  plt.legend()\n",
        "  plt.xlabel(\"Epoch\") \n",
        "  plt.ylabel(\"Accuracy\")\n",
        "  plt.ylim(0, 100)\n",
        "  plt.axhline(y=50)\n",
        "  plt.show()\n"
      ]
    },
    {
      "cell_type": "code",
      "execution_count": 84,
      "metadata": {
        "colab": {
          "base_uri": "https://localhost:8080/"
        },
        "id": "4TW3Vg49n5V-",
        "outputId": "b0f53a71-7206-4585-fd43-cf32a718d68e"
      },
      "outputs": [
        {
          "output_type": "stream",
          "name": "stdout",
          "text": [
            "Loading data...\n",
            "25000 train sequences (25000,)\n",
            "25000 test sequences (25000,)\n"
          ]
        }
      ],
      "source": [
        "max_features = 15000  # only consider the top 15k words\n",
        "maxlen = 500  # first 500 words of each review\n",
        "batch_size = 32\n",
        "\n",
        "print('Loading data...')\n",
        "# Load dataset\n",
        "(x_train, y_train), (x_test, y_test) = keras.datasets.imdb.load_data(num_words=max_features)\n",
        "print(len(x_train), 'train sequences', x_train.shape)\n",
        "print(len(x_test), 'test sequences', x_test.shape)"
      ]
    },
    {
      "cell_type": "code",
      "execution_count": 85,
      "metadata": {
        "colab": {
          "base_uri": "https://localhost:8080/"
        },
        "id": "8ApTb-jYtSOm",
        "outputId": "44b3ead0-202b-4509-c795-02038c267719"
      },
      "outputs": [
        {
          "output_type": "stream",
          "name": "stdout",
          "text": [
            "0.5\n",
            "0.5\n"
          ]
        }
      ],
      "source": [
        "# How balanced is this dataset?\n",
        "print(np.sum(y_train)/len(y_train))\n",
        "print(np.sum(y_test)/len(y_test))"
      ]
    },
    {
      "cell_type": "code",
      "execution_count": 86,
      "metadata": {
        "colab": {
          "base_uri": "https://localhost:8080/"
        },
        "id": "Z53Fbicqr8tm",
        "outputId": "b278e784-a773-4839-9406-133c26c91b33"
      },
      "outputs": [
        {
          "output_type": "stream",
          "name": "stdout",
          "text": [
            "(50000,) (50000,)\n",
            "30000 train sequences (30000,)\n",
            "10000 validation sequences (10000,)\n",
            "10000 test sequences (10000,)\n"
          ]
        }
      ],
      "source": [
        "# Merge the two datasets and divide: 60% for training, 20% validation, 20% test\n",
        "x_, y_ = np.concatenate((x_train, x_test)), np.concatenate((y_train, y_test))\n",
        "print(x_.shape, y_.shape)\n",
        "x_train, x_test, y_train, y_test = train_test_split(x_, y_, test_size=0.4, random_state=10)  # 60/40 split\n",
        "x_val, x_test, y_val, y_test = train_test_split(x_test, y_test, test_size=0.5, random_state=10)  # 50/50 split\n",
        "print(len(x_train), 'train sequences', x_train.shape)\n",
        "print(len(x_val), 'validation sequences', x_val.shape)\n",
        "print(len(x_test), 'test sequences', x_test.shape)"
      ]
    },
    {
      "cell_type": "code",
      "execution_count": 87,
      "metadata": {
        "colab": {
          "base_uri": "https://localhost:8080/"
        },
        "id": "5v_Hy-r8o8pR",
        "outputId": "db66d146-a4c4-454e-c918-349d49c6cf46"
      },
      "outputs": [
        {
          "output_type": "execute_result",
          "data": {
            "text/plain": [
              "[1, 11531, 186, 8, 28, 6, 6482, 7, 269, 4042]"
            ]
          },
          "metadata": {},
          "execution_count": 87
        }
      ],
      "source": [
        "x_train[0][:10]  # numbers!!"
      ]
    },
    {
      "cell_type": "code",
      "execution_count": 88,
      "metadata": {
        "colab": {
          "base_uri": "https://localhost:8080/",
          "height": 53
        },
        "id": "rgEgNSLBpFwh",
        "outputId": "0ab2ebf4-0ae9-4ad2-bdf9-356cf4e24679"
      },
      "outputs": [
        {
          "output_type": "execute_result",
          "data": {
            "application/vnd.google.colaboratory.intrinsic+json": {
              "type": "string"
            },
            "text/plain": [
              "\"the lilly horror in one is fatale br looks meaningless in bronson be showing as you debut film ample to and ingredients zombi ample they for series and thought she's all manipulate and believing in j show look early last quote desire tight interesting that's kind out is far shelter but of frame br and\""
            ]
          },
          "metadata": {},
          "execution_count": 88
        }
      ],
      "source": [
        "# We can explore what one of the reviews looks like at this point.\n",
        "\n",
        "# Retrieve the word index file that maps words to indices\n",
        "word_index = keras.datasets.imdb.get_word_index()\n",
        "# Reverse the word index to obtain a dict mapping indices to words (which is what we have)\n",
        "inverted_word_index = dict((i, word) for (word, i) in word_index.items())\n",
        "# Decode the first sequence in the dataset\n",
        "decoded_sequence = \" \".join(inverted_word_index[i] for i in x_train[0])\n",
        "decoded_sequence"
      ]
    },
    {
      "cell_type": "code",
      "execution_count": 89,
      "metadata": {
        "colab": {
          "base_uri": "https://localhost:8080/"
        },
        "id": "ibmO0V-gcthG",
        "outputId": "57f82d0a-3e5a-485c-c747-7ecb2b093d26"
      },
      "outputs": [
        {
          "output_type": "stream",
          "name": "stdout",
          "text": [
            "Pad sequences\n",
            "x_train shape: (30000, 500)\n",
            "x_val shape: (10000, 500)\n",
            "x_test shape: (10000, 500)\n"
          ]
        }
      ],
      "source": [
        "# Let's ensure all sequences have the same length through padding\n",
        "# - shorter reviews are padded with 0's\n",
        "# - longer reviews are cut\n",
        "print('Pad sequences')\n",
        "x_train = keras.preprocessing.sequence.pad_sequences(x_train, maxlen=maxlen)\n",
        "x_val = keras.preprocessing.sequence.pad_sequences(x_val, maxlen=maxlen)\n",
        "x_test = keras.preprocessing.sequence.pad_sequences(x_test, maxlen=maxlen)\n",
        "print('x_train shape:', x_train.shape)\n",
        "print('x_val shape:', x_val.shape)\n",
        "print('x_test shape:', x_test.shape)"
      ]
    },
    {
      "cell_type": "code",
      "execution_count": 90,
      "metadata": {
        "colab": {
          "base_uri": "https://localhost:8080/"
        },
        "id": "sBpQpwBAk44H",
        "outputId": "f94262a7-ca5a-411b-c876-af0899195d5e"
      },
      "outputs": [
        {
          "output_type": "stream",
          "name": "stdout",
          "text": [
            "Model: \"sequential_13\"\n",
            "_________________________________________________________________\n",
            " Layer (type)                Output Shape              Param #   \n",
            "=================================================================\n",
            " embedding_2 (Embedding)     (None, 500, 128)          1920000   \n",
            "                                                                 \n",
            " dense_16 (Dense)            (None, 500, 64)           8256      \n",
            "                                                                 \n",
            " dropout_7 (Dropout)         (None, 500, 64)           0         \n",
            "                                                                 \n",
            " dense_17 (Dense)            (None, 500, 64)           4160      \n",
            "                                                                 \n",
            " dropout_8 (Dropout)         (None, 500, 64)           0         \n",
            "                                                                 \n",
            " flatten_3 (Flatten)         (None, 32000)             0         \n",
            "                                                                 \n",
            " dense_18 (Dense)            (None, 1)                 32001     \n",
            "                                                                 \n",
            "=================================================================\n",
            "Total params: 1,964,417\n",
            "Trainable params: 1,964,417\n",
            "Non-trainable params: 0\n",
            "_________________________________________________________________\n"
          ]
        }
      ],
      "source": [
        "# Basic feedforward model\n",
        "model = models.Sequential()\n",
        "model.add(layers.Embedding(max_features, 128, input_length=maxlen))\n",
        "model.add(layers.Dense(64, activation='relu'))\n",
        "model.add(layers.Dropout(0.5))\n",
        "model.add(layers.Dense(64, activation='relu'))\n",
        "model.add(layers.Dropout(0.5))\n",
        "model.add(layers.Flatten())\n",
        "model.add(layers.Dense(1, activation=\"sigmoid\"))\n",
        "model.summary()"
      ]
    },
    {
      "cell_type": "code",
      "execution_count": 91,
      "metadata": {
        "colab": {
          "base_uri": "https://localhost:8080/"
        },
        "id": "-8c7tCS5vrC3",
        "outputId": "1403f589-b2d6-4f42-9d3b-5a8fc558d710"
      },
      "outputs": [
        {
          "output_type": "stream",
          "name": "stdout",
          "text": [
            "Epoch 1/20\n",
            "938/938 [==============================] - 83s 87ms/step - loss: 0.4544 - accuracy: 0.7583 - val_loss: 0.2698 - val_accuracy: 0.8897\n",
            "Epoch 2/20\n",
            "938/938 [==============================] - 73s 78ms/step - loss: 0.2486 - accuracy: 0.9014 - val_loss: 0.2554 - val_accuracy: 0.8976\n",
            "Epoch 3/20\n",
            "938/938 [==============================] - 73s 78ms/step - loss: 0.2107 - accuracy: 0.9178 - val_loss: 0.2573 - val_accuracy: 0.8987\n",
            "Epoch 4/20\n",
            "938/938 [==============================] - 69s 73ms/step - loss: 0.1922 - accuracy: 0.9267 - val_loss: 0.2606 - val_accuracy: 0.8988\n",
            "Epoch 5/20\n",
            "938/938 [==============================] - 71s 76ms/step - loss: 0.1779 - accuracy: 0.9338 - val_loss: 0.2718 - val_accuracy: 0.8948\n",
            "Epoch 6/20\n",
            "938/938 [==============================] - 71s 75ms/step - loss: 0.1681 - accuracy: 0.9369 - val_loss: 0.2794 - val_accuracy: 0.8940\n",
            "Epoch 7/20\n",
            "938/938 [==============================] - 70s 75ms/step - loss: 0.1634 - accuracy: 0.9389 - val_loss: 0.4482 - val_accuracy: 0.8380\n",
            "Epoch 8/20\n",
            "938/938 [==============================] - 71s 76ms/step - loss: 0.1526 - accuracy: 0.9418 - val_loss: 0.3412 - val_accuracy: 0.8713\n",
            "Epoch 9/20\n",
            "938/938 [==============================] - 71s 76ms/step - loss: 0.1444 - accuracy: 0.9458 - val_loss: 0.2798 - val_accuracy: 0.8927\n",
            "Epoch 10/20\n",
            "938/938 [==============================] - 71s 75ms/step - loss: 0.1393 - accuracy: 0.9477 - val_loss: 0.3327 - val_accuracy: 0.8769\n",
            "Epoch 11/20\n",
            "938/938 [==============================] - 71s 75ms/step - loss: 0.1334 - accuracy: 0.9502 - val_loss: 0.3120 - val_accuracy: 0.8888\n",
            "Epoch 12/20\n",
            "938/938 [==============================] - 71s 75ms/step - loss: 0.1254 - accuracy: 0.9536 - val_loss: 0.3063 - val_accuracy: 0.8876\n",
            "Epoch 13/20\n",
            "938/938 [==============================] - 68s 73ms/step - loss: 0.1202 - accuracy: 0.9558 - val_loss: 0.4289 - val_accuracy: 0.8620\n",
            "Epoch 14/20\n",
            "938/938 [==============================] - 70s 75ms/step - loss: 0.1172 - accuracy: 0.9568 - val_loss: 0.3297 - val_accuracy: 0.8851\n",
            "Epoch 15/20\n",
            "938/938 [==============================] - 71s 76ms/step - loss: 0.1132 - accuracy: 0.9588 - val_loss: 0.3497 - val_accuracy: 0.8874\n",
            "Epoch 16/20\n",
            "938/938 [==============================] - 75s 80ms/step - loss: 0.1034 - accuracy: 0.9619 - val_loss: 0.5918 - val_accuracy: 0.8335\n",
            "Epoch 17/20\n",
            "938/938 [==============================] - 72s 77ms/step - loss: 0.1035 - accuracy: 0.9632 - val_loss: 0.3986 - val_accuracy: 0.8719\n",
            "Epoch 18/20\n",
            "938/938 [==============================] - 71s 75ms/step - loss: 0.0997 - accuracy: 0.9648 - val_loss: 0.3927 - val_accuracy: 0.8737\n",
            "Epoch 19/20\n",
            "938/938 [==============================] - 71s 75ms/step - loss: 0.0937 - accuracy: 0.9664 - val_loss: 0.3798 - val_accuracy: 0.8801\n",
            "Epoch 20/20\n",
            "938/938 [==============================] - 71s 75ms/step - loss: 0.0889 - accuracy: 0.9679 - val_loss: 0.4742 - val_accuracy: 0.8683\n"
          ]
        }
      ],
      "source": [
        "model.compile(optimizer=\"rmsprop\", loss=\"binary_crossentropy\", metrics=[\"accuracy\"])\n",
        "history = model.fit(x_train, y_train, batch_size=batch_size, epochs=20, validation_data=(x_val, y_val))"
      ]
    },
    {
      "cell_type": "code",
      "execution_count": 92,
      "metadata": {
        "colab": {
          "base_uri": "https://localhost:8080/",
          "height": 318
        },
        "id": "dKBVw5mHv_oX",
        "outputId": "a3d1c98d-3c06-4f0b-b000-7fed848b616e"
      },
      "outputs": [
        {
          "output_type": "display_data",
          "data": {
            "image/png": "[encoded data removed]",
            "text/plain": [
              "<Figure size 432x288 with 1 Axes>"
            ]
          },
          "metadata": {
            "needs_background": "light"
          }
        },
        {
          "output_type": "stream",
          "name": "stdout",
          "text": [
            "313/313 [==============================] - 5s 15ms/step - loss: 0.4670 - accuracy: 0.8670\n",
            "Test Accuracy = 0.87\n"
          ]
        }
      ],
      "source": [
        "plot_hist_classif(history)\n",
        "print('Test Accuracy = %.2f' % model.evaluate(x_test, y_test)[1])  # overfitting!"
      ]
    },
    {
      "cell_type": "code",
      "execution_count": 93,
      "metadata": {
        "colab": {
          "base_uri": "https://localhost:8080/"
        },
        "id": "Ieh7Wl9Pwh8V",
        "outputId": "63b20a97-1cdc-4be6-90af-ca14cde6fbe2"
      },
      "outputs": [
        {
          "output_type": "stream",
          "name": "stdout",
          "text": [
            "Model: \"sequential_14\"\n",
            "_________________________________________________________________\n",
            " Layer (type)                Output Shape              Param #   \n",
            "=================================================================\n",
            " embedding_3 (Embedding)     (None, None, 64)          960000    \n",
            "                                                                 \n",
            " lstm_9 (LSTM)               (None, 128)               98816     \n",
            "                                                                 \n",
            " dropout_9 (Dropout)         (None, 128)               0         \n",
            "                                                                 \n",
            " dense_19 (Dense)            (None, 1)                 129       \n",
            "                                                                 \n",
            "=================================================================\n",
            "Total params: 1,058,945\n",
            "Trainable params: 1,058,945\n",
            "Non-trainable params: 0\n",
            "_________________________________________________________________\n"
          ]
        }
      ],
      "source": [
        "# Let's try an RNN\n",
        "model = models.Sequential()\n",
        "model.add(layers.Embedding(max_features, 64))\n",
        "model.add(layers.LSTM(128, return_sequences=False))\n",
        "model.add(layers.Dropout(0.5))\n",
        "model.add(layers.Dense(1, activation=\"sigmoid\"))\n",
        "model.compile(optimizer=\"rmsprop\", loss=\"binary_crossentropy\", metrics=[\"accuracy\"])\n",
        "model.summary()"
      ]
    },
    {
      "cell_type": "code",
      "execution_count": 94,
      "metadata": {
        "colab": {
          "base_uri": "https://localhost:8080/",
          "height": 450
        },
        "id": "Sd54xZMmxKBQ",
        "outputId": "94c42dd0-4837-4da1-d514-103fd3bc4acc"
      },
      "outputs": [
        {
          "output_type": "stream",
          "name": "stdout",
          "text": [
            "Epoch 1/20\n",
            "938/938 [==============================] - 568s 603ms/step - loss: 0.4291 - accuracy: 0.8091 - val_loss: 0.3179 - val_accuracy: 0.8748\n",
            "Epoch 2/20\n",
            "901/938 [===========================>..] - ETA: 22s - loss: 0.2827 - accuracy: 0.8901"
          ]
        },
        {
          "output_type": "error",
          "ename": "KeyboardInterrupt",
          "evalue": "ignored",
          "traceback": [
            "\u001b[0;31m---------------------------------------------------------------------------\u001b[0m",
            "\u001b[0;31mKeyboardInterrupt\u001b[0m                         Traceback (most recent call last)",
            "\u001b[0;32m<ipython-input-94-547cedb2063e>\u001b[0m in \u001b[0;36m<module>\u001b[0;34m()\u001b[0m\n\u001b[1;32m      2\u001b[0m \u001b[0;31m# N.B: It's actually much faster to train WITHOUT A GPU!!\u001b[0m\u001b[0;34m\u001b[0m\u001b[0;34m\u001b[0m\u001b[0;34m\u001b[0m\u001b[0m\n\u001b[1;32m      3\u001b[0m \u001b[0mcallbacks\u001b[0m \u001b[0;34m=\u001b[0m \u001b[0;34m[\u001b[0m\u001b[0mEarlyStopping\u001b[0m\u001b[0;34m(\u001b[0m\u001b[0mmonitor\u001b[0m\u001b[0;34m=\u001b[0m\u001b[0;34m'val_accuracy'\u001b[0m\u001b[0;34m,\u001b[0m \u001b[0mpatience\u001b[0m\u001b[0;34m=\u001b[0m\u001b[0;36m2\u001b[0m\u001b[0;34m)\u001b[0m\u001b[0;34m]\u001b[0m\u001b[0;34m\u001b[0m\u001b[0;34m\u001b[0m\u001b[0m\n\u001b[0;32m----> 4\u001b[0;31m \u001b[0mhistory\u001b[0m \u001b[0;34m=\u001b[0m \u001b[0mmodel\u001b[0m\u001b[0;34m.\u001b[0m\u001b[0mfit\u001b[0m\u001b[0;34m(\u001b[0m\u001b[0mx_train\u001b[0m\u001b[0;34m,\u001b[0m \u001b[0my_train\u001b[0m\u001b[0;34m,\u001b[0m \u001b[0mbatch_size\u001b[0m\u001b[0;34m=\u001b[0m\u001b[0mbatch_size\u001b[0m\u001b[0;34m,\u001b[0m \u001b[0mepochs\u001b[0m\u001b[0;34m=\u001b[0m\u001b[0;36m20\u001b[0m\u001b[0;34m,\u001b[0m \u001b[0mvalidation_data\u001b[0m\u001b[0;34m=\u001b[0m\u001b[0;34m(\u001b[0m\u001b[0mx_val\u001b[0m\u001b[0;34m,\u001b[0m \u001b[0my_val\u001b[0m\u001b[0;34m)\u001b[0m\u001b[0;34m,\u001b[0m \u001b[0mcallbacks\u001b[0m\u001b[0;34m=\u001b[0m\u001b[0mcallbacks\u001b[0m\u001b[0;34m)\u001b[0m\u001b[0;34m\u001b[0m\u001b[0;34m\u001b[0m\u001b[0m\n\u001b[0m\u001b[1;32m      5\u001b[0m \u001b[0mplot_hist_classif\u001b[0m\u001b[0;34m(\u001b[0m\u001b[0mhistory\u001b[0m\u001b[0;34m)\u001b[0m\u001b[0;34m\u001b[0m\u001b[0;34m\u001b[0m\u001b[0m\n\u001b[1;32m      6\u001b[0m \u001b[0mprint\u001b[0m\u001b[0;34m(\u001b[0m\u001b[0;34m'Test Accuracy = %.2f'\u001b[0m \u001b[0;34m%\u001b[0m \u001b[0mmodel\u001b[0m\u001b[0;34m.\u001b[0m\u001b[0mevaluate\u001b[0m\u001b[0;34m(\u001b[0m\u001b[0mx_test\u001b[0m\u001b[0;34m,\u001b[0m \u001b[0my_test\u001b[0m\u001b[0;34m)\u001b[0m\u001b[0;34m[\u001b[0m\u001b[0;36m1\u001b[0m\u001b[0;34m]\u001b[0m\u001b[0;34m)\u001b[0m\u001b[0;34m\u001b[0m\u001b[0;34m\u001b[0m\u001b[0m\n",
            "\u001b[0;32m/usr/local/lib/python3.7/dist-packages/keras/utils/traceback_utils.py\u001b[0m in \u001b[0;36merror_handler\u001b[0;34m(*args, **kwargs)\u001b[0m\n\u001b[1;32m     62\u001b[0m     \u001b[0mfiltered_tb\u001b[0m \u001b[0;34m=\u001b[0m \u001b[0;32mNone\u001b[0m\u001b[0;34m\u001b[0m\u001b[0;34m\u001b[0m\u001b[0m\n\u001b[1;32m     63\u001b[0m     \u001b[0;32mtry\u001b[0m\u001b[0;34m:\u001b[0m\u001b[0;34m\u001b[0m\u001b[0;34m\u001b[0m\u001b[0m\n\u001b[0;32m---> 64\u001b[0;31m       \u001b[0;32mreturn\u001b[0m \u001b[0mfn\u001b[0m\u001b[0;34m(\u001b[0m\u001b[0;34m*\u001b[0m\u001b[0margs\u001b[0m\u001b[0;34m,\u001b[0m \u001b[0;34m**\u001b[0m\u001b[0mkwargs\u001b[0m\u001b[0;34m)\u001b[0m\u001b[0;34m\u001b[0m\u001b[0;34m\u001b[0m\u001b[0m\n\u001b[0m\u001b[1;32m     65\u001b[0m     \u001b[0;32mexcept\u001b[0m \u001b[0mException\u001b[0m \u001b[0;32mas\u001b[0m \u001b[0me\u001b[0m\u001b[0;34m:\u001b[0m  \u001b[0;31m# pylint: disable=broad-except\u001b[0m\u001b[0;34m\u001b[0m\u001b[0;34m\u001b[0m\u001b[0m\n\u001b[1;32m     66\u001b[0m       \u001b[0mfiltered_tb\u001b[0m \u001b[0;34m=\u001b[0m \u001b[0m_process_traceback_frames\u001b[0m\u001b[0;34m(\u001b[0m\u001b[0me\u001b[0m\u001b[0;34m.\u001b[0m\u001b[0m__traceback__\u001b[0m\u001b[0;34m)\u001b[0m\u001b[0;34m\u001b[0m\u001b[0;34m\u001b[0m\u001b[0m\n",
            "\u001b[0;32m/usr/local/lib/python3.7/dist-packages/keras/engine/training.py\u001b[0m in \u001b[0;36mfit\u001b[0;34m(self, x, y, batch_size, epochs, verbose, callbacks, validation_split, validation_data, shuffle, class_weight, sample_weight, initial_epoch, steps_per_epoch, validation_steps, validation_batch_size, validation_freq, max_queue_size, workers, use_multiprocessing)\u001b[0m\n\u001b[1;32m   1382\u001b[0m                 _r=1):\n\u001b[1;32m   1383\u001b[0m               \u001b[0mcallbacks\u001b[0m\u001b[0;34m.\u001b[0m\u001b[0mon_train_batch_begin\u001b[0m\u001b[0;34m(\u001b[0m\u001b[0mstep\u001b[0m\u001b[0;34m)\u001b[0m\u001b[0;34m\u001b[0m\u001b[0;34m\u001b[0m\u001b[0m\n\u001b[0;32m-> 1384\u001b[0;31m               \u001b[0mtmp_logs\u001b[0m \u001b[0;34m=\u001b[0m \u001b[0mself\u001b[0m\u001b[0;34m.\u001b[0m\u001b[0mtrain_function\u001b[0m\u001b[0;34m(\u001b[0m\u001b[0miterator\u001b[0m\u001b[0;34m)\u001b[0m\u001b[0;34m\u001b[0m\u001b[0;34m\u001b[0m\u001b[0m\n\u001b[0m\u001b[1;32m   1385\u001b[0m               \u001b[0;32mif\u001b[0m \u001b[0mdata_handler\u001b[0m\u001b[0;34m.\u001b[0m\u001b[0mshould_sync\u001b[0m\u001b[0;34m:\u001b[0m\u001b[0;34m\u001b[0m\u001b[0;34m\u001b[0m\u001b[0m\n\u001b[1;32m   1386\u001b[0m                 \u001b[0mcontext\u001b[0m\u001b[0;34m.\u001b[0m\u001b[0masync_wait\u001b[0m\u001b[0;34m(\u001b[0m\u001b[0;34m)\u001b[0m\u001b[0;34m\u001b[0m\u001b[0;34m\u001b[0m\u001b[0m\n",
            "\u001b[0;32m/usr/local/lib/python3.7/dist-packages/tensorflow/python/util/traceback_utils.py\u001b[0m in \u001b[0;36merror_handler\u001b[0;34m(*args, **kwargs)\u001b[0m\n\u001b[1;32m    148\u001b[0m     \u001b[0mfiltered_tb\u001b[0m \u001b[0;34m=\u001b[0m \u001b[0;32mNone\u001b[0m\u001b[0;34m\u001b[0m\u001b[0;34m\u001b[0m\u001b[0m\n\u001b[1;32m    149\u001b[0m     \u001b[0;32mtry\u001b[0m\u001b[0;34m:\u001b[0m\u001b[0;34m\u001b[0m\u001b[0;34m\u001b[0m\u001b[0m\n\u001b[0;32m--> 150\u001b[0;31m       \u001b[0;32mreturn\u001b[0m \u001b[0mfn\u001b[0m\u001b[0;34m(\u001b[0m\u001b[0;34m*\u001b[0m\u001b[0margs\u001b[0m\u001b[0;34m,\u001b[0m \u001b[0;34m**\u001b[0m\u001b[0mkwargs\u001b[0m\u001b[0;34m)\u001b[0m\u001b[0;34m\u001b[0m\u001b[0;34m\u001b[0m\u001b[0m\n\u001b[0m\u001b[1;32m    151\u001b[0m     \u001b[0;32mexcept\u001b[0m \u001b[0mException\u001b[0m \u001b[0;32mas\u001b[0m \u001b[0me\u001b[0m\u001b[0;34m:\u001b[0m\u001b[0;34m\u001b[0m\u001b[0;34m\u001b[0m\u001b[0m\n\u001b[1;32m    152\u001b[0m       \u001b[0mfiltered_tb\u001b[0m \u001b[0;34m=\u001b[0m \u001b[0m_process_traceback_frames\u001b[0m\u001b[0;34m(\u001b[0m\u001b[0me\u001b[0m\u001b[0;34m.\u001b[0m\u001b[0m__traceback__\u001b[0m\u001b[0;34m)\u001b[0m\u001b[0;34m\u001b[0m\u001b[0;34m\u001b[0m\u001b[0m\n",
            "\u001b[0;32m/usr/local/lib/python3.7/dist-packages/tensorflow/python/eager/def_function.py\u001b[0m in \u001b[0;36m__call__\u001b[0;34m(self, *args, **kwds)\u001b[0m\n\u001b[1;32m    913\u001b[0m \u001b[0;34m\u001b[0m\u001b[0m\n\u001b[1;32m    914\u001b[0m       \u001b[0;32mwith\u001b[0m \u001b[0mOptionalXlaContext\u001b[0m\u001b[0;34m(\u001b[0m\u001b[0mself\u001b[0m\u001b[0;34m.\u001b[0m\u001b[0m_jit_compile\u001b[0m\u001b[0;34m)\u001b[0m\u001b[0;34m:\u001b[0m\u001b[0;34m\u001b[0m\u001b[0;34m\u001b[0m\u001b[0m\n\u001b[0;32m--> 915\u001b[0;31m         \u001b[0mresult\u001b[0m \u001b[0;34m=\u001b[0m \u001b[0mself\u001b[0m\u001b[0;34m.\u001b[0m\u001b[0m_call\u001b[0m\u001b[0;34m(\u001b[0m\u001b[0;34m*\u001b[0m\u001b[0margs\u001b[0m\u001b[0;34m,\u001b[0m \u001b[0;34m**\u001b[0m\u001b[0mkwds\u001b[0m\u001b[0;34m)\u001b[0m\u001b[0;34m\u001b[0m\u001b[0;34m\u001b[0m\u001b[0m\n\u001b[0m\u001b[1;32m    916\u001b[0m \u001b[0;34m\u001b[0m\u001b[0m\n\u001b[1;32m    917\u001b[0m       \u001b[0mnew_tracing_count\u001b[0m \u001b[0;34m=\u001b[0m \u001b[0mself\u001b[0m\u001b[0;34m.\u001b[0m\u001b[0mexperimental_get_tracing_count\u001b[0m\u001b[0;34m(\u001b[0m\u001b[0;34m)\u001b[0m\u001b[0;34m\u001b[0m\u001b[0;34m\u001b[0m\u001b[0m\n",
            "\u001b[0;32m/usr/local/lib/python3.7/dist-packages/tensorflow/python/eager/def_function.py\u001b[0m in \u001b[0;36m_call\u001b[0;34m(self, *args, **kwds)\u001b[0m\n\u001b[1;32m    945\u001b[0m       \u001b[0;31m# In this case we have created variables on the first call, so we run the\u001b[0m\u001b[0;34m\u001b[0m\u001b[0;34m\u001b[0m\u001b[0;34m\u001b[0m\u001b[0m\n\u001b[1;32m    946\u001b[0m       \u001b[0;31m# defunned version which is guaranteed to never create variables.\u001b[0m\u001b[0;34m\u001b[0m\u001b[0;34m\u001b[0m\u001b[0;34m\u001b[0m\u001b[0m\n\u001b[0;32m--> 947\u001b[0;31m       \u001b[0;32mreturn\u001b[0m \u001b[0mself\u001b[0m\u001b[0;34m.\u001b[0m\u001b[0m_stateless_fn\u001b[0m\u001b[0;34m(\u001b[0m\u001b[0;34m*\u001b[0m\u001b[0margs\u001b[0m\u001b[0;34m,\u001b[0m \u001b[0;34m**\u001b[0m\u001b[0mkwds\u001b[0m\u001b[0;34m)\u001b[0m  \u001b[0;31m# pylint: disable=not-callable\u001b[0m\u001b[0;34m\u001b[0m\u001b[0;34m\u001b[0m\u001b[0m\n\u001b[0m\u001b[1;32m    948\u001b[0m     \u001b[0;32melif\u001b[0m \u001b[0mself\u001b[0m\u001b[0;34m.\u001b[0m\u001b[0m_stateful_fn\u001b[0m \u001b[0;32mis\u001b[0m \u001b[0;32mnot\u001b[0m \u001b[0;32mNone\u001b[0m\u001b[0;34m:\u001b[0m\u001b[0;34m\u001b[0m\u001b[0;34m\u001b[0m\u001b[0m\n\u001b[1;32m    949\u001b[0m       \u001b[0;31m# Release the lock early so that multiple threads can perform the call\u001b[0m\u001b[0;34m\u001b[0m\u001b[0;34m\u001b[0m\u001b[0;34m\u001b[0m\u001b[0m\n",
            "\u001b[0;32m/usr/local/lib/python3.7/dist-packages/tensorflow/python/eager/function.py\u001b[0m in \u001b[0;36m__call__\u001b[0;34m(self, *args, **kwargs)\u001b[0m\n\u001b[1;32m   2955\u001b[0m        filtered_flat_args) = self._maybe_define_function(args, kwargs)\n\u001b[1;32m   2956\u001b[0m     return graph_function._call_flat(\n\u001b[0;32m-> 2957\u001b[0;31m         filtered_flat_args, captured_inputs=graph_function.captured_inputs)  # pylint: disable=protected-access\n\u001b[0m\u001b[1;32m   2958\u001b[0m \u001b[0;34m\u001b[0m\u001b[0m\n\u001b[1;32m   2959\u001b[0m   \u001b[0;34m@\u001b[0m\u001b[0mproperty\u001b[0m\u001b[0;34m\u001b[0m\u001b[0;34m\u001b[0m\u001b[0m\n",
            "\u001b[0;32m/usr/local/lib/python3.7/dist-packages/tensorflow/python/eager/function.py\u001b[0m in \u001b[0;36m_call_flat\u001b[0;34m(self, args, captured_inputs, cancellation_manager)\u001b[0m\n\u001b[1;32m   1852\u001b[0m       \u001b[0;31m# No tape is watching; skip to running the function.\u001b[0m\u001b[0;34m\u001b[0m\u001b[0;34m\u001b[0m\u001b[0;34m\u001b[0m\u001b[0m\n\u001b[1;32m   1853\u001b[0m       return self._build_call_outputs(self._inference_function.call(\n\u001b[0;32m-> 1854\u001b[0;31m           ctx, args, cancellation_manager=cancellation_manager))\n\u001b[0m\u001b[1;32m   1855\u001b[0m     forward_backward = self._select_forward_and_backward_functions(\n\u001b[1;32m   1856\u001b[0m         \u001b[0margs\u001b[0m\u001b[0;34m,\u001b[0m\u001b[0;34m\u001b[0m\u001b[0;34m\u001b[0m\u001b[0m\n",
            "\u001b[0;32m/usr/local/lib/python3.7/dist-packages/tensorflow/python/eager/function.py\u001b[0m in \u001b[0;36mcall\u001b[0;34m(self, ctx, args, cancellation_manager)\u001b[0m\n\u001b[1;32m    502\u001b[0m               \u001b[0minputs\u001b[0m\u001b[0;34m=\u001b[0m\u001b[0margs\u001b[0m\u001b[0;34m,\u001b[0m\u001b[0;34m\u001b[0m\u001b[0;34m\u001b[0m\u001b[0m\n\u001b[1;32m    503\u001b[0m               \u001b[0mattrs\u001b[0m\u001b[0;34m=\u001b[0m\u001b[0mattrs\u001b[0m\u001b[0;34m,\u001b[0m\u001b[0;34m\u001b[0m\u001b[0;34m\u001b[0m\u001b[0m\n\u001b[0;32m--> 504\u001b[0;31m               ctx=ctx)\n\u001b[0m\u001b[1;32m    505\u001b[0m         \u001b[0;32melse\u001b[0m\u001b[0;34m:\u001b[0m\u001b[0;34m\u001b[0m\u001b[0;34m\u001b[0m\u001b[0m\n\u001b[1;32m    506\u001b[0m           outputs = execute.execute_with_cancellation(\n",
            "\u001b[0;32m/usr/local/lib/python3.7/dist-packages/tensorflow/python/eager/execute.py\u001b[0m in \u001b[0;36mquick_execute\u001b[0;34m(op_name, num_outputs, inputs, attrs, ctx, name)\u001b[0m\n\u001b[1;32m     53\u001b[0m     \u001b[0mctx\u001b[0m\u001b[0;34m.\u001b[0m\u001b[0mensure_initialized\u001b[0m\u001b[0;34m(\u001b[0m\u001b[0;34m)\u001b[0m\u001b[0;34m\u001b[0m\u001b[0;34m\u001b[0m\u001b[0m\n\u001b[1;32m     54\u001b[0m     tensors = pywrap_tfe.TFE_Py_Execute(ctx._handle, device_name, op_name,\n\u001b[0;32m---> 55\u001b[0;31m                                         inputs, attrs, num_outputs)\n\u001b[0m\u001b[1;32m     56\u001b[0m   \u001b[0;32mexcept\u001b[0m \u001b[0mcore\u001b[0m\u001b[0;34m.\u001b[0m\u001b[0m_NotOkStatusException\u001b[0m \u001b[0;32mas\u001b[0m \u001b[0me\u001b[0m\u001b[0;34m:\u001b[0m\u001b[0;34m\u001b[0m\u001b[0;34m\u001b[0m\u001b[0m\n\u001b[1;32m     57\u001b[0m     \u001b[0;32mif\u001b[0m \u001b[0mname\u001b[0m \u001b[0;32mis\u001b[0m \u001b[0;32mnot\u001b[0m \u001b[0;32mNone\u001b[0m\u001b[0;34m:\u001b[0m\u001b[0;34m\u001b[0m\u001b[0;34m\u001b[0m\u001b[0m\n",
            "\u001b[0;31mKeyboardInterrupt\u001b[0m: "
          ]
        }
      ],
      "source": [
        "# This model will take a long time to train, so we add an early stopping criterion\n",
        "# N.B: It's actually much faster to train WITHOUT A GPU!!\n",
        "callbacks = [EarlyStopping(monitor='val_accuracy', patience=2)]\n",
        "history = model.fit(x_train, y_train, batch_size=batch_size, epochs=20, validation_data=(x_val, y_val), callbacks=callbacks)\n",
        "plot_hist_classif(history)\n",
        "print('Test Accuracy = %.2f' % model.evaluate(x_test, y_test)[1])\n",
        "# Note that we're still overfitting, but this is just an example of use"
      ]
    },
    {
      "cell_type": "markdown",
      "metadata": {
        "id": "kzZhXm5gkz_g"
      },
      "source": [
        "## Your turn!\n",
        "\n",
        "Implement a bidirectional RNN that can outperform the LSTM model we had above.\n",
        "\n",
        "A starting skeleton could be:\n",
        " \n",
        "*   Embedding layer with an output dimension of 64\n",
        "*   Bidirectional layer with a 32-neuron LSTM layer\n",
        "*   Dense layer with 1 neuron and a sigmoid activation\n",
        "\n",
        "Some suggestions:\n",
        "\n",
        "- Change the sizes of the layers (i.e., the numbers of neurons)\n",
        "- Add dropout\n",
        "- Add other recurrent and/or bidirectional layers\n",
        "\n",
        "Once you have a model that scores over 90% on the validation set, check its performance on the test set and upload it on the code checker in Moodle.\n",
        "\n",
        "Note that the model I'm suggesting above will be able to reach the desired performance, but it will show signs of overfitting. Can you do it by adding regularization (dropout, smaller network) so you don't overfit?\n"
      ]
    },
    {
      "cell_type": "code",
      "execution_count": 103,
      "metadata": {
        "colab": {
          "base_uri": "https://localhost:8080/",
          "height": 1000
        },
        "id": "jCHOC7dyadaj",
        "outputId": "5843f3ec-b5c9-4821-cf0d-662452731820"
      },
      "outputs": [
        {
          "output_type": "stream",
          "name": "stdout",
          "text": [
            "Model: \"sequential_23\"\n",
            "_________________________________________________________________\n",
            " Layer (type)                Output Shape              Param #   \n",
            "=================================================================\n",
            " embedding_13 (Embedding)    (None, None, 64)          960000    \n",
            "                                                                 \n",
            " bidirectional_6 (Bidirectio  (None, None, 20)         6000      \n",
            " nal)                                                            \n",
            "                                                                 \n",
            " lstm_30 (LSTM)              (None, 32)                6784      \n",
            "                                                                 \n",
            " dense_26 (Dense)            (None, 10)                330       \n",
            "                                                                 \n",
            " dropout_13 (Dropout)        (None, 10)                0         \n",
            "                                                                 \n",
            " dense_27 (Dense)            (None, 1)                 11        \n",
            "                                                                 \n",
            "=================================================================\n",
            "Total params: 973,125\n",
            "Trainable params: 973,125\n",
            "Non-trainable params: 0\n",
            "_________________________________________________________________\n",
            "Model: \"sequential_23\"\n",
            "_________________________________________________________________\n",
            " Layer (type)                Output Shape              Param #   \n",
            "=================================================================\n",
            " embedding_13 (Embedding)    (None, None, 64)          960000    \n",
            "                                                                 \n",
            " bidirectional_6 (Bidirectio  (None, None, 20)         6000      \n",
            " nal)                                                            \n",
            "                                                                 \n",
            " lstm_30 (LSTM)              (None, 32)                6784      \n",
            "                                                                 \n",
            " dense_26 (Dense)            (None, 10)                330       \n",
            "                                                                 \n",
            " dropout_13 (Dropout)        (None, 10)                0         \n",
            "                                                                 \n",
            " dense_27 (Dense)            (None, 1)                 11        \n",
            "                                                                 \n",
            "=================================================================\n",
            "Total params: 973,125\n",
            "Trainable params: 973,125\n",
            "Non-trainable params: 0\n",
            "_________________________________________________________________\n",
            "None\n",
            "Epoch 1/5\n",
            "938/938 [==============================] - 520s 548ms/step - loss: 0.4252 - accuracy: 0.8076 - val_loss: 0.3611 - val_accuracy: 0.8440\n",
            "Epoch 2/5\n",
            "938/938 [==============================] - 512s 546ms/step - loss: 0.2999 - accuracy: 0.8904 - val_loss: 0.2663 - val_accuracy: 0.8926\n",
            "Epoch 3/5\n",
            "233/938 [======>.......................] - ETA: 5:58 - loss: 0.2530 - accuracy: 0.9135"
          ]
        },
        {
          "output_type": "error",
          "ename": "KeyboardInterrupt",
          "evalue": "ignored",
          "traceback": [
            "\u001b[0;31m---------------------------------------------------------------------------\u001b[0m",
            "\u001b[0;31mKeyboardInterrupt\u001b[0m                         Traceback (most recent call last)",
            "\u001b[0;32m<ipython-input-103-bf4cf9ec31b5>\u001b[0m in \u001b[0;36m<module>\u001b[0;34m()\u001b[0m\n\u001b[1;32m     28\u001b[0m history = model.fit(x_train, y_train, batch_size=batch_size, epochs=n_, \n\u001b[1;32m     29\u001b[0m                     \u001b[0mvalidation_data\u001b[0m\u001b[0;34m=\u001b[0m\u001b[0;34m(\u001b[0m\u001b[0mx_val\u001b[0m\u001b[0;34m,\u001b[0m \u001b[0my_val\u001b[0m\u001b[0;34m)\u001b[0m\u001b[0;34m,\u001b[0m\u001b[0;34m\u001b[0m\u001b[0;34m\u001b[0m\u001b[0m\n\u001b[0;32m---> 30\u001b[0;31m                     callbacks=callbacks)\n\u001b[0m\u001b[1;32m     31\u001b[0m \u001b[0mplot_hist_classif\u001b[0m\u001b[0;34m(\u001b[0m\u001b[0mhistory\u001b[0m\u001b[0;34m)\u001b[0m\u001b[0;34m\u001b[0m\u001b[0;34m\u001b[0m\u001b[0m\n\u001b[1;32m     32\u001b[0m \u001b[0mmodel\u001b[0m \u001b[0;34m=\u001b[0m \u001b[0mkeras\u001b[0m\u001b[0;34m.\u001b[0m\u001b[0mmodels\u001b[0m\u001b[0;34m.\u001b[0m\u001b[0mload_model\u001b[0m\u001b[0;34m(\u001b[0m\u001b[0;34m\"model.keras\"\u001b[0m\u001b[0;34m)\u001b[0m\u001b[0;34m\u001b[0m\u001b[0;34m\u001b[0m\u001b[0m\n",
            "\u001b[0;32m/usr/local/lib/python3.7/dist-packages/keras/utils/traceback_utils.py\u001b[0m in \u001b[0;36merror_handler\u001b[0;34m(*args, **kwargs)\u001b[0m\n\u001b[1;32m     62\u001b[0m     \u001b[0mfiltered_tb\u001b[0m \u001b[0;34m=\u001b[0m \u001b[0;32mNone\u001b[0m\u001b[0;34m\u001b[0m\u001b[0;34m\u001b[0m\u001b[0m\n\u001b[1;32m     63\u001b[0m     \u001b[0;32mtry\u001b[0m\u001b[0;34m:\u001b[0m\u001b[0;34m\u001b[0m\u001b[0;34m\u001b[0m\u001b[0m\n\u001b[0;32m---> 64\u001b[0;31m       \u001b[0;32mreturn\u001b[0m \u001b[0mfn\u001b[0m\u001b[0;34m(\u001b[0m\u001b[0;34m*\u001b[0m\u001b[0margs\u001b[0m\u001b[0;34m,\u001b[0m \u001b[0;34m**\u001b[0m\u001b[0mkwargs\u001b[0m\u001b[0;34m)\u001b[0m\u001b[0;34m\u001b[0m\u001b[0;34m\u001b[0m\u001b[0m\n\u001b[0m\u001b[1;32m     65\u001b[0m     \u001b[0;32mexcept\u001b[0m \u001b[0mException\u001b[0m \u001b[0;32mas\u001b[0m \u001b[0me\u001b[0m\u001b[0;34m:\u001b[0m  \u001b[0;31m# pylint: disable=broad-except\u001b[0m\u001b[0;34m\u001b[0m\u001b[0;34m\u001b[0m\u001b[0m\n\u001b[1;32m     66\u001b[0m       \u001b[0mfiltered_tb\u001b[0m \u001b[0;34m=\u001b[0m \u001b[0m_process_traceback_frames\u001b[0m\u001b[0;34m(\u001b[0m\u001b[0me\u001b[0m\u001b[0;34m.\u001b[0m\u001b[0m__traceback__\u001b[0m\u001b[0;34m)\u001b[0m\u001b[0;34m\u001b[0m\u001b[0;34m\u001b[0m\u001b[0m\n",
            "\u001b[0;32m/usr/local/lib/python3.7/dist-packages/keras/engine/training.py\u001b[0m in \u001b[0;36mfit\u001b[0;34m(self, x, y, batch_size, epochs, verbose, callbacks, validation_split, validation_data, shuffle, class_weight, sample_weight, initial_epoch, steps_per_epoch, validation_steps, validation_batch_size, validation_freq, max_queue_size, workers, use_multiprocessing)\u001b[0m\n\u001b[1;32m   1382\u001b[0m                 _r=1):\n\u001b[1;32m   1383\u001b[0m               \u001b[0mcallbacks\u001b[0m\u001b[0;34m.\u001b[0m\u001b[0mon_train_batch_begin\u001b[0m\u001b[0;34m(\u001b[0m\u001b[0mstep\u001b[0m\u001b[0;34m)\u001b[0m\u001b[0;34m\u001b[0m\u001b[0;34m\u001b[0m\u001b[0m\n\u001b[0;32m-> 1384\u001b[0;31m               \u001b[0mtmp_logs\u001b[0m \u001b[0;34m=\u001b[0m \u001b[0mself\u001b[0m\u001b[0;34m.\u001b[0m\u001b[0mtrain_function\u001b[0m\u001b[0;34m(\u001b[0m\u001b[0miterator\u001b[0m\u001b[0;34m)\u001b[0m\u001b[0;34m\u001b[0m\u001b[0;34m\u001b[0m\u001b[0m\n\u001b[0m\u001b[1;32m   1385\u001b[0m               \u001b[0;32mif\u001b[0m \u001b[0mdata_handler\u001b[0m\u001b[0;34m.\u001b[0m\u001b[0mshould_sync\u001b[0m\u001b[0;34m:\u001b[0m\u001b[0;34m\u001b[0m\u001b[0;34m\u001b[0m\u001b[0m\n\u001b[1;32m   1386\u001b[0m                 \u001b[0mcontext\u001b[0m\u001b[0;34m.\u001b[0m\u001b[0masync_wait\u001b[0m\u001b[0;34m(\u001b[0m\u001b[0;34m)\u001b[0m\u001b[0;34m\u001b[0m\u001b[0;34m\u001b[0m\u001b[0m\n",
            "\u001b[0;32m/usr/local/lib/python3.7/dist-packages/tensorflow/python/util/traceback_utils.py\u001b[0m in \u001b[0;36merror_handler\u001b[0;34m(*args, **kwargs)\u001b[0m\n\u001b[1;32m    148\u001b[0m     \u001b[0mfiltered_tb\u001b[0m \u001b[0;34m=\u001b[0m \u001b[0;32mNone\u001b[0m\u001b[0;34m\u001b[0m\u001b[0;34m\u001b[0m\u001b[0m\n\u001b[1;32m    149\u001b[0m     \u001b[0;32mtry\u001b[0m\u001b[0;34m:\u001b[0m\u001b[0;34m\u001b[0m\u001b[0;34m\u001b[0m\u001b[0m\n\u001b[0;32m--> 150\u001b[0;31m       \u001b[0;32mreturn\u001b[0m \u001b[0mfn\u001b[0m\u001b[0;34m(\u001b[0m\u001b[0;34m*\u001b[0m\u001b[0margs\u001b[0m\u001b[0;34m,\u001b[0m \u001b[0;34m**\u001b[0m\u001b[0mkwargs\u001b[0m\u001b[0;34m)\u001b[0m\u001b[0;34m\u001b[0m\u001b[0;34m\u001b[0m\u001b[0m\n\u001b[0m\u001b[1;32m    151\u001b[0m     \u001b[0;32mexcept\u001b[0m \u001b[0mException\u001b[0m \u001b[0;32mas\u001b[0m \u001b[0me\u001b[0m\u001b[0;34m:\u001b[0m\u001b[0;34m\u001b[0m\u001b[0;34m\u001b[0m\u001b[0m\n\u001b[1;32m    152\u001b[0m       \u001b[0mfiltered_tb\u001b[0m \u001b[0;34m=\u001b[0m \u001b[0m_process_traceback_frames\u001b[0m\u001b[0;34m(\u001b[0m\u001b[0me\u001b[0m\u001b[0;34m.\u001b[0m\u001b[0m__traceback__\u001b[0m\u001b[0;34m)\u001b[0m\u001b[0;34m\u001b[0m\u001b[0;34m\u001b[0m\u001b[0m\n",
            "\u001b[0;32m/usr/local/lib/python3.7/dist-packages/tensorflow/python/eager/def_function.py\u001b[0m in \u001b[0;36m__call__\u001b[0;34m(self, *args, **kwds)\u001b[0m\n\u001b[1;32m    913\u001b[0m \u001b[0;34m\u001b[0m\u001b[0m\n\u001b[1;32m    914\u001b[0m       \u001b[0;32mwith\u001b[0m \u001b[0mOptionalXlaContext\u001b[0m\u001b[0;34m(\u001b[0m\u001b[0mself\u001b[0m\u001b[0;34m.\u001b[0m\u001b[0m_jit_compile\u001b[0m\u001b[0;34m)\u001b[0m\u001b[0;34m:\u001b[0m\u001b[0;34m\u001b[0m\u001b[0;34m\u001b[0m\u001b[0m\n\u001b[0;32m--> 915\u001b[0;31m         \u001b[0mresult\u001b[0m \u001b[0;34m=\u001b[0m \u001b[0mself\u001b[0m\u001b[0;34m.\u001b[0m\u001b[0m_call\u001b[0m\u001b[0;34m(\u001b[0m\u001b[0;34m*\u001b[0m\u001b[0margs\u001b[0m\u001b[0;34m,\u001b[0m \u001b[0;34m**\u001b[0m\u001b[0mkwds\u001b[0m\u001b[0;34m)\u001b[0m\u001b[0;34m\u001b[0m\u001b[0;34m\u001b[0m\u001b[0m\n\u001b[0m\u001b[1;32m    916\u001b[0m \u001b[0;34m\u001b[0m\u001b[0m\n\u001b[1;32m    917\u001b[0m       \u001b[0mnew_tracing_count\u001b[0m \u001b[0;34m=\u001b[0m \u001b[0mself\u001b[0m\u001b[0;34m.\u001b[0m\u001b[0mexperimental_get_tracing_count\u001b[0m\u001b[0;34m(\u001b[0m\u001b[0;34m)\u001b[0m\u001b[0;34m\u001b[0m\u001b[0;34m\u001b[0m\u001b[0m\n",
            "\u001b[0;32m/usr/local/lib/python3.7/dist-packages/tensorflow/python/eager/def_function.py\u001b[0m in \u001b[0;36m_call\u001b[0;34m(self, *args, **kwds)\u001b[0m\n\u001b[1;32m    945\u001b[0m       \u001b[0;31m# In this case we have created variables on the first call, so we run the\u001b[0m\u001b[0;34m\u001b[0m\u001b[0;34m\u001b[0m\u001b[0;34m\u001b[0m\u001b[0m\n\u001b[1;32m    946\u001b[0m       \u001b[0;31m# defunned version which is guaranteed to never create variables.\u001b[0m\u001b[0;34m\u001b[0m\u001b[0;34m\u001b[0m\u001b[0;34m\u001b[0m\u001b[0m\n\u001b[0;32m--> 947\u001b[0;31m       \u001b[0;32mreturn\u001b[0m \u001b[0mself\u001b[0m\u001b[0;34m.\u001b[0m\u001b[0m_stateless_fn\u001b[0m\u001b[0;34m(\u001b[0m\u001b[0;34m*\u001b[0m\u001b[0margs\u001b[0m\u001b[0;34m,\u001b[0m \u001b[0;34m**\u001b[0m\u001b[0mkwds\u001b[0m\u001b[0;34m)\u001b[0m  \u001b[0;31m# pylint: disable=not-callable\u001b[0m\u001b[0;34m\u001b[0m\u001b[0;34m\u001b[0m\u001b[0m\n\u001b[0m\u001b[1;32m    948\u001b[0m     \u001b[0;32melif\u001b[0m \u001b[0mself\u001b[0m\u001b[0;34m.\u001b[0m\u001b[0m_stateful_fn\u001b[0m \u001b[0;32mis\u001b[0m \u001b[0;32mnot\u001b[0m \u001b[0;32mNone\u001b[0m\u001b[0;34m:\u001b[0m\u001b[0;34m\u001b[0m\u001b[0;34m\u001b[0m\u001b[0m\n\u001b[1;32m    949\u001b[0m       \u001b[0;31m# Release the lock early so that multiple threads can perform the call\u001b[0m\u001b[0;34m\u001b[0m\u001b[0;34m\u001b[0m\u001b[0;34m\u001b[0m\u001b[0m\n",
            "\u001b[0;32m/usr/local/lib/python3.7/dist-packages/tensorflow/python/eager/function.py\u001b[0m in \u001b[0;36m__call__\u001b[0;34m(self, *args, **kwargs)\u001b[0m\n\u001b[1;32m   2955\u001b[0m        filtered_flat_args) = self._maybe_define_function(args, kwargs)\n\u001b[1;32m   2956\u001b[0m     return graph_function._call_flat(\n\u001b[0;32m-> 2957\u001b[0;31m         filtered_flat_args, captured_inputs=graph_function.captured_inputs)  # pylint: disable=protected-access\n\u001b[0m\u001b[1;32m   2958\u001b[0m \u001b[0;34m\u001b[0m\u001b[0m\n\u001b[1;32m   2959\u001b[0m   \u001b[0;34m@\u001b[0m\u001b[0mproperty\u001b[0m\u001b[0;34m\u001b[0m\u001b[0;34m\u001b[0m\u001b[0m\n",
            "\u001b[0;32m/usr/local/lib/python3.7/dist-packages/tensorflow/python/eager/function.py\u001b[0m in \u001b[0;36m_call_flat\u001b[0;34m(self, args, captured_inputs, cancellation_manager)\u001b[0m\n\u001b[1;32m   1852\u001b[0m       \u001b[0;31m# No tape is watching; skip to running the function.\u001b[0m\u001b[0;34m\u001b[0m\u001b[0;34m\u001b[0m\u001b[0;34m\u001b[0m\u001b[0m\n\u001b[1;32m   1853\u001b[0m       return self._build_call_outputs(self._inference_function.call(\n\u001b[0;32m-> 1854\u001b[0;31m           ctx, args, cancellation_manager=cancellation_manager))\n\u001b[0m\u001b[1;32m   1855\u001b[0m     forward_backward = self._select_forward_and_backward_functions(\n\u001b[1;32m   1856\u001b[0m         \u001b[0margs\u001b[0m\u001b[0;34m,\u001b[0m\u001b[0;34m\u001b[0m\u001b[0;34m\u001b[0m\u001b[0m\n",
            "\u001b[0;32m/usr/local/lib/python3.7/dist-packages/tensorflow/python/eager/function.py\u001b[0m in \u001b[0;36mcall\u001b[0;34m(self, ctx, args, cancellation_manager)\u001b[0m\n\u001b[1;32m    502\u001b[0m               \u001b[0minputs\u001b[0m\u001b[0;34m=\u001b[0m\u001b[0margs\u001b[0m\u001b[0;34m,\u001b[0m\u001b[0;34m\u001b[0m\u001b[0;34m\u001b[0m\u001b[0m\n\u001b[1;32m    503\u001b[0m               \u001b[0mattrs\u001b[0m\u001b[0;34m=\u001b[0m\u001b[0mattrs\u001b[0m\u001b[0;34m,\u001b[0m\u001b[0;34m\u001b[0m\u001b[0;34m\u001b[0m\u001b[0m\n\u001b[0;32m--> 504\u001b[0;31m               ctx=ctx)\n\u001b[0m\u001b[1;32m    505\u001b[0m         \u001b[0;32melse\u001b[0m\u001b[0;34m:\u001b[0m\u001b[0;34m\u001b[0m\u001b[0;34m\u001b[0m\u001b[0m\n\u001b[1;32m    506\u001b[0m           outputs = execute.execute_with_cancellation(\n",
            "\u001b[0;32m/usr/local/lib/python3.7/dist-packages/tensorflow/python/eager/execute.py\u001b[0m in \u001b[0;36mquick_execute\u001b[0;34m(op_name, num_outputs, inputs, attrs, ctx, name)\u001b[0m\n\u001b[1;32m     53\u001b[0m     \u001b[0mctx\u001b[0m\u001b[0;34m.\u001b[0m\u001b[0mensure_initialized\u001b[0m\u001b[0;34m(\u001b[0m\u001b[0;34m)\u001b[0m\u001b[0;34m\u001b[0m\u001b[0;34m\u001b[0m\u001b[0m\n\u001b[1;32m     54\u001b[0m     tensors = pywrap_tfe.TFE_Py_Execute(ctx._handle, device_name, op_name,\n\u001b[0;32m---> 55\u001b[0;31m                                         inputs, attrs, num_outputs)\n\u001b[0m\u001b[1;32m     56\u001b[0m   \u001b[0;32mexcept\u001b[0m \u001b[0mcore\u001b[0m\u001b[0;34m.\u001b[0m\u001b[0m_NotOkStatusException\u001b[0m \u001b[0;32mas\u001b[0m \u001b[0me\u001b[0m\u001b[0;34m:\u001b[0m\u001b[0;34m\u001b[0m\u001b[0;34m\u001b[0m\u001b[0m\n\u001b[1;32m     57\u001b[0m     \u001b[0;32mif\u001b[0m \u001b[0mname\u001b[0m \u001b[0;32mis\u001b[0m \u001b[0;32mnot\u001b[0m \u001b[0;32mNone\u001b[0m\u001b[0;34m:\u001b[0m\u001b[0;34m\u001b[0m\u001b[0;34m\u001b[0m\u001b[0m\n",
            "\u001b[0;31mKeyboardInterrupt\u001b[0m: "
          ]
        }
      ],
      "source": [
        "n_ = 5  # number of epochs. You can edit this\n",
        "\n",
        "model = models.Sequential()\n",
        "# YOUR CODE HERE!\n",
        "model.add(layers.Embedding(max_features, 64))\n",
        "#model.add(layers.LSTM(32, return_sequences=True))\n",
        "#model.add(layers.Bidirectional(layers.LSTM(10, return_sequences=True)))\n",
        "model.add(layers.Bidirectional(layers.LSTM(10, return_sequences=True)))\n",
        "model.add(layers.LSTM(32, return_sequences=False))\n",
        "model.add(layers.Dense(10, activation=\"relu\"))\n",
        "model.add(layers.Dropout(0.5))\n",
        "model.add(layers.Dense(1, activation=\"sigmoid\"))\n",
        "\n",
        "model.compile(optimizer=\"rmsprop\", loss=\"binary_crossentropy\", metrics=[\"accuracy\"])\n",
        "##\n",
        "model.summary()\n",
        "\n",
        "# I DON'T RECOMMEND THAT YOU CHANGE CODE AFTER THIS POINT\n",
        "model.compile(optimizer=\"rmsprop\", loss=\"binary_crossentropy\", metrics=[\"accuracy\"])\n",
        "\n",
        "print(model.summary())\n",
        "\n",
        "# This model will take a long time to train, so we add an early stopping criterion\n",
        "# I've also added a ModelCheckpoint that will save the best model according to val_accuracy regardless of whether we continue training\n",
        "callbacks = [EarlyStopping(monitor='val_accuracy', patience=1),\n",
        "             ModelCheckpoint(\"model.keras\", save_best_only=True, monitor=\"val_accuracy\", mode='max')]\n",
        "\n",
        "history = model.fit(x_train, y_train, batch_size=batch_size, epochs=n_, \n",
        "                    validation_data=(x_val, y_val), \n",
        "                    callbacks=callbacks)\n",
        "plot_hist_classif(history)\n",
        "model = keras.models.load_model(\"model.keras\")\n",
        "print('Test Accuracy = %.2f' % model.evaluate(x_test, y_test)[1])"
      ]
    },
    {
      "cell_type": "code",
      "source": [
        "history.history[\"val_accuracy\"][-1]"
      ],
      "metadata": {
        "colab": {
          "base_uri": "https://localhost:8080/"
        },
        "id": "zW4is2w3XxK2",
        "outputId": "3bce5fb1-7c2d-4c46-841e-c5b3a99fa4cf"
      },
      "execution_count": 107,
      "outputs": [
        {
          "output_type": "execute_result",
          "data": {
            "text/plain": [
              "0.0"
            ]
          },
          "metadata": {},
          "execution_count": 107
        }
      ]
    },
    {
      "cell_type": "code",
      "execution_count": 105,
      "metadata": {
        "colab": {
          "base_uri": "https://localhost:8080/",
          "height": 252
        },
        "id": "ZFBmg66_CR7y",
        "outputId": "1bfcc281-1eac-49e8-b6a0-d6780a268861"
      },
      "outputs": [
        {
          "output_type": "stream",
          "name": "stdout",
          "text": [
            "Accuracy is below the threshold!\n"
          ]
        },
        {
          "output_type": "error",
          "ename": "Exception",
          "evalue": "ignored",
          "traceback": [
            "\u001b[0;31m---------------------------------------------------------------------------\u001b[0m",
            "\u001b[0;31mException\u001b[0m                                 Traceback (most recent call last)",
            "\u001b[0;32m<ipython-input-105-bae412f1f1e4>\u001b[0m in \u001b[0;36m<module>\u001b[0;34m()\u001b[0m\n\u001b[1;32m      7\u001b[0m \u001b[0;32melse\u001b[0m\u001b[0;34m:\u001b[0m\u001b[0;34m\u001b[0m\u001b[0;34m\u001b[0m\u001b[0m\n\u001b[1;32m      8\u001b[0m     \u001b[0mprint\u001b[0m\u001b[0;34m(\u001b[0m\u001b[0;34m\"Accuracy is below the threshold!\"\u001b[0m\u001b[0;34m)\u001b[0m\u001b[0;34m\u001b[0m\u001b[0;34m\u001b[0m\u001b[0m\n\u001b[0;32m----> 9\u001b[0;31m     \u001b[0;32mraise\u001b[0m \u001b[0mException\u001b[0m\u001b[0;34m(\u001b[0m\u001b[0;34m\"Your model isn't accurate enough to pass the progress checker!\"\u001b[0m\u001b[0;34m)\u001b[0m\u001b[0;34m\u001b[0m\u001b[0;34m\u001b[0m\u001b[0m\n\u001b[0m\u001b[1;32m     10\u001b[0m \u001b[0;31m# Save the model into a local folder\u001b[0m\u001b[0;34m\u001b[0m\u001b[0;34m\u001b[0m\u001b[0;34m\u001b[0m\u001b[0m\n\u001b[1;32m     11\u001b[0m \u001b[0mkeras\u001b[0m\u001b[0;34m.\u001b[0m\u001b[0mmodels\u001b[0m\u001b[0;34m.\u001b[0m\u001b[0msave_model\u001b[0m\u001b[0;34m(\u001b[0m\u001b[0mmodel\u001b[0m\u001b[0;34m,\u001b[0m \u001b[0;34m\"Model.h5\"\u001b[0m\u001b[0;34m,\u001b[0m\u001b[0msave_format\u001b[0m\u001b[0;34m=\u001b[0m\u001b[0;34m'h5'\u001b[0m\u001b[0;34m)\u001b[0m\u001b[0;34m\u001b[0m\u001b[0;34m\u001b[0m\u001b[0m\n",
            "\u001b[0;31mException\u001b[0m: Your model isn't accurate enough to pass the progress checker!"
          ]
        }
      ],
      "source": [
        "if model.count_params() > 1000000:\n",
        "    print(\"Due to memory constraints on Moodle, the lab quiz has a 10MB limit on your model size, so you need to use a smaller model to validate through the auto-marker.\")\n",
        "\n",
        "if history.history[\"val_accuracy\"][-1] > 0.9:\n",
        "    print(\"Your model is accurate enough!\")\n",
        "\n",
        "else:\n",
        "    print(\"Accuracy is below the threshold!\")\n",
        "    raise Exception(\"Your model isn't accurate enough to pass the progress checker!\")\n",
        "# Save the model into a local folder\n",
        "keras.models.save_model(model, \"Model.h5\",save_format='h5')\n",
        "print('Model saved! You can now upload it to the lab quiz.')"
      ]
    },
    {
      "cell_type": "code",
      "source": [
        "keras.models.save_model(model, \"Model.h5\",save_format='h5')\n",
        "print('Model saved! You can now upload it to the lab quiz.')"
      ],
      "metadata": {
        "colab": {
          "base_uri": "https://localhost:8080/"
        },
        "id": "RTR4B8kNX9v_",
        "outputId": "23e4f7f6-092a-4619-9d49-79106e55e815"
      },
      "execution_count": 108,
      "outputs": [
        {
          "output_type": "stream",
          "name": "stdout",
          "text": [
            "Model saved! You can now upload it to the lab quiz.\n"
          ]
        }
      ]
    },
    {
      "cell_type": "code",
      "execution_count": null,
      "metadata": {
        "id": "hv7PyBQQsXav"
      },
      "outputs": [],
      "source": [
        ""
      ]
    }
  ],
  "metadata": {
    "colab": {
      "collapsed_sections": [],
      "name": "lab8rnn.ipynb",
      "provenance": []
    },
    "kernelspec": {
      "display_name": "Python 3",
      "language": "python",
      "name": "python3"
    },
    "language_info": {
      "codemirror_mode": {
        "name": "ipython",
        "version": 3
      },
      "file_extension": ".py",
      "mimetype": "text/x-python",
      "name": "python",
      "nbconvert_exporter": "python",
      "pygments_lexer": "ipython3",
      "version": "3.7.10"
    }
  },
  "nbformat": 4,
  "nbformat_minor": 0
}